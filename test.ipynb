{
 "cells": [
  {
   "cell_type": "code",
   "execution_count": null,
   "id": "df7713b6",
   "metadata": {},
   "outputs": [],
   "source": []
  },
  {
   "cell_type": "code",
   "execution_count": null,
   "id": "54c1ec57",
   "metadata": {},
   "outputs": [],
   "source": []
  },
  {
   "cell_type": "code",
   "execution_count": 4,
   "id": "59a73f66",
   "metadata": {},
   "outputs": [
    {
     "name": "stderr",
     "output_type": "stream",
     "text": [
      "Some weights of BertForSequenceClassification were not initialized from the model checkpoint at beomi/kcbert-base and are newly initialized: ['classifier.bias', 'classifier.weight']\n",
      "You should probably TRAIN this model on a down-stream task to be able to use it for predictions and inference.\n"
     ]
    },
    {
     "data": {
      "application/vnd.jupyter.widget-view+json": {
       "model_id": "7779b0555df243e4951f49c6c52eb515",
       "version_major": 2,
       "version_minor": 0
      },
      "text/plain": [
       "config.json:   0%|          | 0.00/881 [00:00<?, ?B/s]"
      ]
     },
     "metadata": {},
     "output_type": "display_data"
    },
    {
     "data": {
      "application/vnd.jupyter.widget-view+json": {
       "model_id": "b37f4c8b0561420082f63bf2113a4eab",
       "version_major": 2,
       "version_minor": 0
      },
      "text/plain": [
       "pytorch_model.bin:   0%|          | 0.00/406M [00:00<?, ?B/s]"
      ]
     },
     "metadata": {},
     "output_type": "display_data"
    },
    {
     "data": {
      "application/vnd.jupyter.widget-view+json": {
       "model_id": "f6f279bde1594174b6919431af72248a",
       "version_major": 2,
       "version_minor": 0
      },
      "text/plain": [
       "tokenizer_config.json:   0%|          | 0.00/372 [00:00<?, ?B/s]"
      ]
     },
     "metadata": {},
     "output_type": "display_data"
    },
    {
     "data": {
      "application/vnd.jupyter.widget-view+json": {
       "model_id": "3e4216a375304a49ab42ee0d4a450687",
       "version_major": 2,
       "version_minor": 0
      },
      "text/plain": [
       "vocab.txt:   0%|          | 0.00/143k [00:00<?, ?B/s]"
      ]
     },
     "metadata": {},
     "output_type": "display_data"
    },
    {
     "data": {
      "application/vnd.jupyter.widget-view+json": {
       "model_id": "82b55c41c4c64d98b95dfc6db57d5935",
       "version_major": 2,
       "version_minor": 0
      },
      "text/plain": [
       "tokenizer.json:   0%|          | 0.00/294k [00:00<?, ?B/s]"
      ]
     },
     "metadata": {},
     "output_type": "display_data"
    },
    {
     "data": {
      "application/vnd.jupyter.widget-view+json": {
       "model_id": "ea15f6d094144698aadc2931c7a45e43",
       "version_major": 2,
       "version_minor": 0
      },
      "text/plain": [
       "special_tokens_map.json:   0%|          | 0.00/112 [00:00<?, ?B/s]"
      ]
     },
     "metadata": {},
     "output_type": "display_data"
    },
    {
     "name": "stdout",
     "output_type": "stream",
     "text": [
      "[{'label': 'positive', 'score': 0.9994496703147888}]\n"
     ]
    }
   ],
   "source": [
    "from transformers import pipeline\n",
    "\n",
    "sentiment = pipeline(\n",
    "    \"sentiment-analysis\",\n",
    "    model=\"beomi/kcbert-base\",\n",
    "    tokenizer=\"beomi/kcbert-base\",\n",
    "    clean_up_tokenization_spaces=True,\n",
    "    device=0  # CUDA 사용 가능 시\n",
    ")\n",
    "\n",
    "def analyze_sentiment(text):from transformers import pipeline\n",
    "\n",
    "sentiment = pipeline(\n",
    "    \"sentiment-analysis\",\n",
    "    model=\"snunlp/KR-FinBert-SC\",  # 또는 \"nlpai-lab/kcbert-base-sentiment\"\n",
    "    tokenizer=\"snunlp/KR-FinBert-SC\",\n",
    "    device=0  # GPU 사용 가능 시\n",
    ")\n",
    "\n",
    "result = sentiment(\"이 기업의 실적이 매우 좋습니다.\")\n",
    "print(result)\n"
   ]
  },
  {
   "cell_type": "code",
   "execution_count": 5,
   "id": "53bf9cfb",
   "metadata": {},
   "outputs": [
    {
     "name": "stdout",
     "output_type": "stream",
     "text": [
      "[{'label': 'negative', 'score': 0.9897450804710388}]\n"
     ]
    }
   ],
   "source": [
    "result = sentiment(\"이 기업의 실적이 매우 안 좋습니다.\")\n",
    "print(result)"
   ]
  },
  {
   "cell_type": "code",
   "execution_count": 41,
   "id": "8c7560c6",
   "metadata": {},
   "outputs": [
    {
     "name": "stderr",
     "output_type": "stream",
     "text": [
      "Some weights of BertForSequenceClassification were not initialized from the model checkpoint at beomi/kcbert-base and are newly initialized: ['classifier.bias', 'classifier.weight']\n",
      "You should probably TRAIN this model on a down-stream task to be able to use it for predictions and inference.\n"
     ]
    }
   ],
   "source": [
    "import requests\n",
    "from bs4 import BeautifulSoup\n",
    "from transformers import pipeline\n",
    "import urllib.parse\n",
    "# ✅ 감성 분석 파이프라인 (한국어 모델 사용)\n",
    "classifier = pipeline(\n",
    "    \"sentiment-analysis\",\n",
    "    model=\"beomi/kcbert-base\",\n",
    "    tokenizer=\"beomi/kcbert-base\",\n",
    "    clean_up_tokenization_spaces=True,\n",
    "    device=0  # CUDA 사용 가능 시\n",
    ")\n",
    "# ✅ 뉴스 검색 및 크롤링 함수\n",
    "def crawl_naver_news(keyword, max_results=5):\n",
    "    headers = {'User-Agent': 'Mozilla/5.0'}\n",
    "    url = f\"https://search.naver.com/search.naver?where=news&query={urllib.parse.quote(keyword)}\"\n",
    "\n",
    "    res = requests.get(url, headers=headers)\n",
    "    soup = BeautifulSoup(res.text, \"html.parser\")\n",
    "    news_items = soup.select(\"div.news_area\")[:max_results]\n",
    "\n",
    "    news_list = soup.find_all(\"a\", nocr=1)\n",
    "    \n",
    "\n",
    "\n",
    "    # # 출력\n",
    "    # for n in news_list:\n",
    "    #     print(f\"제목: {n['title']}\")\n",
    "    #     print(f\"링크: {n['link']}\")\n",
    "    #     print(f\"내용: {n['content']}\\n\")\n",
    "    #         # 감성 분석\n",
    "    #     sentiment = classifier(article_text[:512])[0]  # 길이 제한\n",
    "    #     label = sentiment['label']\n",
    "    #     score = round(sentiment['score'], 3)\n",
    "\n",
    "    #     results.append({\n",
    "    #         \"keyword\": keyword,\n",
    "    #         \"title\": title,\n",
    "    #         \"link\": link,\n",
    "    #         \"sentiment\": \"긍정\" if label == \"LABEL_1\" else \"부정\",\n",
    "    #         \"score\": score\n",
    "    #     })\n",
    "\n",
    "    return news_list\n"
   ]
  },
  {
   "cell_type": "code",
   "execution_count": 42,
   "id": "c4f13a0e",
   "metadata": {},
   "outputs": [
    {
     "data": {
      "text/plain": [
       "[<a class=\"lu8Lfh20c9DvvP05mqBf\" href=\"https://media.naver.com/press/003\" nocr=\"1\" target=\"_blank\"><div class=\"sds-comps-horizontal-layout sds-comps-inline-layout sds-comps-profile-thumbnail type-basic size-lg\" data-sds-comp=\"ProfileThumbnail\" height=\"24px\" width=\"24px\"><div class=\"sds-comps-base-layout sds-comps-inline-layout sds-comps-image sds-comps-image-circle fit-cover is-loading\" data-dimmed=\"3%\" data-sds-comp=\"CircleImage\" style=\"width:24px;height:24px;aspect-ratio:1/1\"><div style=\"width:0;height:0\"></div><img alt=\"뉴시스의 프로필 이미지\" height=\"24\" loading=\"lazy\" src=\"https://search.pstatic.net/common/?src=https%3A%2F%2Fmimgnews.pstatic.net%2Fimage%2Fupload%2Foffice_logo%2F003%2F2024%2F07%2F31%2Flogo_003_18_20240731102705.png&amp;type=f54_54&amp;expire=24&amp;refresh=true\" width=\"24\"/></div></div></a>,\n",
       " <a class=\"lu8Lfh20c9DvvP05mqBf Tgl9QnDwOqaU_NbSJFAE\" href=\"https://media.naver.com/press/003\" nocr=\"1\" target=\"_blank\"><span class=\"sds-comps-text sds-comps-text-type-body2 sds-comps-text-weight-sm\">뉴시스</span></a>,\n",
       " <a class=\"lu8Lfh20c9DvvP05mqBf EUx7i75WfHuAC3MQKPkS\" href=\"https://n.news.naver.com/mnews/article/003/0013219652?sid=102\" nocr=\"1\" target=\"_blank\"><span class=\"sds-comps-text sds-comps-text-type-body2 sds-comps-text-weight-sm\">네이버뉴스</span></a>,\n",
       " <a class=\"lu8Lfh20c9DvvP05mqBf tym_MoKIfC84Aqvg9SKg\" href=\"https://www.newsis.com/view/NISX20250502_0003162599\" nocr=\"1\" target=\"_blank\"><span class=\"sds-comps-text sds-comps-text-ellipsis-1 sds-comps-text-type-headline1\">검찰, '<mark>삼성전자</mark> 반도체 핵심기술 유출' 공범 구속기소</span></a>,\n",
       " <a class=\"lu8Lfh20c9DvvP05mqBf OmR0jkNgHXA6BZNhMfn2\" href=\"https://www.newsis.com/view/NISX20250502_0003162599\" nocr=\"1\" target=\"_blank\"><span class=\"sds-comps-text sds-comps-text-ellipsis-3 sds-comps-text-type-body1\"><mark>삼성전자</mark>의 반도체 핵심 기술을 중국 경쟁사에 유출한 혐의로 징역 7년을 선고 받은 <mark>삼성전자</mark> 전 직원 사건과 관련해 검찰이 공범 1명을 추가로 재판에 넘겼다. 2일 서울중앙지검 정보기술범죄수사부(부장검사 안동건)는 산업기술의 유출 방지 및 보호에 관한 법률 위반 등 혐의로 <mark>삼성전자</mark> 엔지니어 출신...</span></a>,\n",
       " <a class=\"lu8Lfh20c9DvvP05mqBf\" href=\"https://www.newsis.com/view/NISX20250502_0003162599\" nocr=\"1\" target=\"_blank\"><div class=\"sds-comps-base-layout sds-comps-inline-layout sds-comps-image sds-rego-thumb-overlay Hyuplz379RtBDviKXzj6 fit-contain forced-ratio is-loading\" data-dimmed=\"3%\" data-sds-comp=\"ThumbnailOverlay\" style=\"width:104px;aspect-ratio:1/1\"><div style=\"width:0;height:0;padding-top:100%\"></div><img alt=\"검찰, '&lt;mark&gt;삼성전자&lt;/mark&gt; 반도체 핵심기술 유출' 공범 구속기소의 이미지\" loading=\"lazy\" src=\"https://search.pstatic.net/common/?src=https%3A%2F%2Fimgnews.pstatic.net%2Fimage%2Forigin%2F003%2F2025%2F05%2F02%2F13219652.jpg&amp;type=f200_200&amp;expire=2&amp;refresh=true\" width=\"104\"/><span class=\"sds-comps-image-after-content\"></span></div></a>,\n",
       " <a class=\"lu8Lfh20c9DvvP05mqBf SENo9JISQCY6ik9nR69e\" href=\"https://news.sbs.co.kr/news/endPage.do?news_id=N1008086785&amp;plink=ORI&amp;cooper=NAVER\" nocr=\"1\" target=\"_blank\"><span class=\"sds-comps-text sds-comps-text-ellipsis-1 sds-comps-text-type-body2 UwxlFxVCxhdNh2gNkBQ5\">체포 시 대화방에 '하트'…<mark>삼성전자</mark> 기술 유출 전 연구원 기소</span></a>,\n",
       " <a class=\"lu8Lfh20c9DvvP05mqBf EUx7i75WfHuAC3MQKPkS\" href=\"https://n.news.naver.com/mnews/article/055/0001254714?sid=102\" nocr=\"1\" target=\"_blank\"><span class=\"sds-comps-text sds-comps-text-type-body2 sds-comps-text-weight-sm\">네이버뉴스</span></a>,\n",
       " <a class=\"lu8Lfh20c9DvvP05mqBf SENo9JISQCY6ik9nR69e\" href=\"http://www.edaily.co.kr/news/newspath.asp?newsid=03670326642164984\" nocr=\"1\" target=\"_blank\"><span class=\"sds-comps-text sds-comps-text-ellipsis-1 sds-comps-text-type-body2 UwxlFxVCxhdNh2gNkBQ5\"><mark>삼성전자</mark> 핵심기술 中 빼돌린 전 직원…檢 구속기소</span></a>,\n",
       " <a class=\"lu8Lfh20c9DvvP05mqBf EUx7i75WfHuAC3MQKPkS\" href=\"https://n.news.naver.com/mnews/article/018/0006003836?sid=102\" nocr=\"1\" target=\"_blank\"><span class=\"sds-comps-text sds-comps-text-type-body2 sds-comps-text-weight-sm\">네이버뉴스</span></a>,\n",
       " <a class=\"lu8Lfh20c9DvvP05mqBf SENo9JISQCY6ik9nR69e\" href=\"https://www.nocutnews.co.kr/news/6333968?utm_source=naver&amp;utm_medium=article&amp;utm_campaign=20250502113733\" nocr=\"1\" target=\"_blank\"><span class=\"sds-comps-text sds-comps-text-ellipsis-1 sds-comps-text-type-body2 UwxlFxVCxhdNh2gNkBQ5\">검찰 '반도체 핵심기술 유출' <mark>삼성전자</mark> 전 직원 구속기소</span></a>,\n",
       " <a class=\"lu8Lfh20c9DvvP05mqBf EUx7i75WfHuAC3MQKPkS\" href=\"https://n.news.naver.com/mnews/article/079/0004020234?sid=102\" nocr=\"1\" target=\"_blank\"><span class=\"sds-comps-text sds-comps-text-type-body2 sds-comps-text-weight-sm\">네이버뉴스</span></a>,\n",
       " <a class=\"lu8Lfh20c9DvvP05mqBf SENo9JISQCY6ik9nR69e\" href=\"https://news.tf.co.kr/read/life/2202657.htm\" nocr=\"1\" target=\"_blank\"><span class=\"sds-comps-text sds-comps-text-ellipsis-1 sds-comps-text-type-body2 UwxlFxVCxhdNh2gNkBQ5\">'중국기업에 반도체 기술 유출' 전 <mark>삼성전자</mark> 직원 구속 기소</span></a>,\n",
       " <a class=\"lu8Lfh20c9DvvP05mqBf EUx7i75WfHuAC3MQKPkS\" href=\"https://n.news.naver.com/mnews/article/629/0000387055?sid=102\" nocr=\"1\" target=\"_blank\"><span class=\"sds-comps-text sds-comps-text-type-body2 sds-comps-text-weight-sm\">네이버뉴스</span></a>,\n",
       " <a class=\"lu8Lfh20c9DvvP05mqBf GAFvxWPhlt0qHtSLdtF5\" href=\"?de=&amp;docid=0030013219652&amp;ds=&amp;field=0&amp;mynews=0&amp;news_office_checked=&amp;nso=so%3Ar%2Cp%3Aall%2Ca%3Aall&amp;office_section_code=0&amp;office_type=0&amp;pd=-1&amp;photo=0&amp;query=%EC%82%BC%EC%84%B1%EC%A0%84%EC%9E%90&amp;related=1&amp;sm=tab_tnw&amp;sort=0&amp;ssc=tab.news.all\" nocr=\"1\" target=\"_self\"><span class=\"sds-comps-text sds-comps-text-type-body2 sds-comps-text-weight-sm\">관련뉴스 25건 전체보기</span></a>,\n",
       " <a class=\"lu8Lfh20c9DvvP05mqBf\" href=\"https://media.naver.com/press/277\" nocr=\"1\" target=\"_blank\"><div class=\"sds-comps-horizontal-layout sds-comps-inline-layout sds-comps-profile-thumbnail type-basic size-lg\" data-sds-comp=\"ProfileThumbnail\" height=\"24px\" width=\"24px\"><div class=\"sds-comps-base-layout sds-comps-inline-layout sds-comps-image sds-comps-image-circle fit-cover is-loading\" data-dimmed=\"3%\" data-sds-comp=\"CircleImage\" style=\"width:24px;height:24px;aspect-ratio:1/1\"><div style=\"width:0;height:0\"></div><img alt=\"아시아경제의 프로필 이미지\" height=\"24\" loading=\"lazy\" src=\"https://search.pstatic.net/common/?src=https%3A%2F%2Fmimgnews.pstatic.net%2Fimage%2Fupload%2Foffice_logo%2F277%2F2020%2F07%2F27%2Flogo_277_18_20200727103757.png&amp;type=f54_54&amp;expire=24&amp;refresh=true\" width=\"24\"/></div></div></a>,\n",
       " <a class=\"lu8Lfh20c9DvvP05mqBf Tgl9QnDwOqaU_NbSJFAE\" href=\"https://media.naver.com/press/277\" nocr=\"1\" target=\"_blank\"><span class=\"sds-comps-text sds-comps-text-type-body2 sds-comps-text-weight-sm\">아시아경제</span></a>,\n",
       " <a class=\"lu8Lfh20c9DvvP05mqBf EUx7i75WfHuAC3MQKPkS\" href=\"https://n.news.naver.com/mnews/article/277/0005587028?sid=101\" nocr=\"1\" target=\"_blank\"><span class=\"sds-comps-text sds-comps-text-type-body2 sds-comps-text-weight-sm\">네이버뉴스</span></a>,\n",
       " <a class=\"lu8Lfh20c9DvvP05mqBf tym_MoKIfC84Aqvg9SKg\" href=\"https://view.asiae.co.kr/article/2025050208364003458\" nocr=\"1\" target=\"_blank\"><span class=\"sds-comps-text sds-comps-text-ellipsis-1 sds-comps-text-type-headline1\">'미션 임파서블', <mark>삼성</mark> OLED 화질로 만나볼까</span></a>,\n",
       " <a class=\"lu8Lfh20c9DvvP05mqBf OmR0jkNgHXA6BZNhMfn2\" href=\"https://view.asiae.co.kr/article/2025050208364003458\" nocr=\"1\" target=\"_blank\"><span class=\"sds-comps-text sds-comps-text-ellipsis-3 sds-comps-text-type-body1\"><mark>삼성전자</mark>가 OLED(유기발광다이오드) TV로 영화 '미션 임파서블: 파이널 레코닝' 예고편을 상영한다. 방문객은 화려한 액션과 볼거리를 생생한 화질로 체험할 수 있다. <mark>삼성전자</mark>는 전국 삼성 스토어 매장의 삼성 OLED TV와 결합된 무빙스타일과 더 프레임, QLED(퀀텀닷발광다이오드) TV 등에서 영화 '미션...</span></a>,\n",
       " <a class=\"lu8Lfh20c9DvvP05mqBf\" href=\"https://view.asiae.co.kr/article/2025050208364003458\" nocr=\"1\" target=\"_blank\"><div class=\"sds-comps-base-layout sds-comps-inline-layout sds-comps-image sds-rego-thumb-overlay Hyuplz379RtBDviKXzj6 fit-contain forced-ratio is-loading\" data-dimmed=\"3%\" data-sds-comp=\"ThumbnailOverlay\" style=\"width:104px;aspect-ratio:1/1\"><div style=\"width:0;height:0;padding-top:100%\"></div><img alt=\"'미션 임파서블', &lt;mark&gt;삼성&lt;/mark&gt; OLED 화질로 만나볼까의 이미지\" loading=\"lazy\" src=\"https://search.pstatic.net/common/?src=https%3A%2F%2Fimgnews.pstatic.net%2Fimage%2Forigin%2F277%2F2025%2F05%2F02%2F5587028.jpg&amp;type=f200_200&amp;expire=2&amp;refresh=true\" width=\"104\"/><span class=\"sds-comps-image-after-content\"></span></div></a>,\n",
       " <a class=\"lu8Lfh20c9DvvP05mqBf SENo9JISQCY6ik9nR69e\" href=\"https://daily.hankooki.com/news/articleView.html?idxno=1211679\" nocr=\"1\" target=\"_blank\"><span class=\"sds-comps-text sds-comps-text-ellipsis-1 sds-comps-text-type-body2 UwxlFxVCxhdNh2gNkBQ5\"><mark>삼성전자</mark>, '미션 임파서블' 예고편으로 OLED 우수성 전파</span></a>,\n",
       " <a class=\"lu8Lfh20c9DvvP05mqBf SENo9JISQCY6ik9nR69e\" href=\"http://news.mt.co.kr/mtview.php?no=2025050208554386310\" nocr=\"1\" target=\"_blank\"><span class=\"sds-comps-text sds-comps-text-ellipsis-1 sds-comps-text-type-body2 UwxlFxVCxhdNh2gNkBQ5\"><mark>삼성전자</mark>, 전국 삼성스토어 매장서 '미션 임파서블' 예고편 상영</span></a>,\n",
       " <a class=\"lu8Lfh20c9DvvP05mqBf EUx7i75WfHuAC3MQKPkS\" href=\"https://n.news.naver.com/mnews/article/008/0005189052?sid=101\" nocr=\"1\" target=\"_blank\"><span class=\"sds-comps-text sds-comps-text-type-body2 sds-comps-text-weight-sm\">네이버뉴스</span></a>,\n",
       " <a class=\"lu8Lfh20c9DvvP05mqBf SENo9JISQCY6ik9nR69e\" href=\"http://www.inews24.com/view/1840621\" nocr=\"1\" target=\"_blank\"><span class=\"sds-comps-text sds-comps-text-ellipsis-1 sds-comps-text-type-body2 UwxlFxVCxhdNh2gNkBQ5\"><mark>삼성전자</mark>, 전국 매장서 '미션 임파서블' 예고편 상영</span></a>,\n",
       " <a class=\"lu8Lfh20c9DvvP05mqBf EUx7i75WfHuAC3MQKPkS\" href=\"https://n.news.naver.com/mnews/article/031/0000929376?sid=105\" nocr=\"1\" target=\"_blank\"><span class=\"sds-comps-text sds-comps-text-type-body2 sds-comps-text-weight-sm\">네이버뉴스</span></a>,\n",
       " <a class=\"lu8Lfh20c9DvvP05mqBf SENo9JISQCY6ik9nR69e\" href=\"https://biz.sbs.co.kr/article_hub/20000232415?division=NAVER\" nocr=\"1\" target=\"_blank\"><span class=\"sds-comps-text sds-comps-text-ellipsis-1 sds-comps-text-type-body2 UwxlFxVCxhdNh2gNkBQ5\"><mark>삼성전자</mark>, '미션 임파서블' 예고편으로 OLED 성능 알린다</span></a>,\n",
       " <a class=\"lu8Lfh20c9DvvP05mqBf EUx7i75WfHuAC3MQKPkS\" href=\"https://n.news.naver.com/mnews/article/374/0000438557?sid=101\" nocr=\"1\" target=\"_blank\"><span class=\"sds-comps-text sds-comps-text-type-body2 sds-comps-text-weight-sm\">네이버뉴스</span></a>,\n",
       " <a class=\"lu8Lfh20c9DvvP05mqBf GAFvxWPhlt0qHtSLdtF5\" href=\"?de=&amp;docid=2770005587028&amp;ds=&amp;field=0&amp;mynews=0&amp;news_office_checked=&amp;nso=so%3Ar%2Cp%3Aall%2Ca%3Aall&amp;office_section_code=0&amp;office_type=0&amp;pd=-1&amp;photo=0&amp;query=%EC%82%BC%EC%84%B1%EC%A0%84%EC%9E%90&amp;related=1&amp;sm=tab_tnw&amp;sort=0&amp;ssc=tab.news.all\" nocr=\"1\" target=\"_self\"><span class=\"sds-comps-text sds-comps-text-type-body2 sds-comps-text-weight-sm\">관련뉴스 12건 전체보기</span></a>,\n",
       " <a class=\"lu8Lfh20c9DvvP05mqBf\" href=\"https://media.naver.com/press/421\" nocr=\"1\" target=\"_blank\"><div class=\"sds-comps-horizontal-layout sds-comps-inline-layout sds-comps-profile-thumbnail type-basic size-lg\" data-sds-comp=\"ProfileThumbnail\" height=\"24px\" width=\"24px\"><div class=\"sds-comps-base-layout sds-comps-inline-layout sds-comps-image sds-comps-image-circle fit-cover is-loading\" data-dimmed=\"3%\" data-sds-comp=\"CircleImage\" style=\"width:24px;height:24px;aspect-ratio:1/1\"><div style=\"width:0;height:0\"></div><img alt=\"뉴스1의 프로필 이미지\" height=\"24\" loading=\"lazy\" src=\"https://search.pstatic.net/common/?src=https%3A%2F%2Fmimgnews.pstatic.net%2Fimage%2Fupload%2Foffice_logo%2F421%2F2024%2F03%2F14%2Flogo_421_18_20240314113343.png&amp;type=f54_54&amp;expire=24&amp;refresh=true\" width=\"24\"/></div></div></a>,\n",
       " <a class=\"lu8Lfh20c9DvvP05mqBf Tgl9QnDwOqaU_NbSJFAE\" href=\"https://media.naver.com/press/421\" nocr=\"1\" target=\"_blank\"><span class=\"sds-comps-text sds-comps-text-type-body2 sds-comps-text-weight-sm\">뉴스1</span></a>,\n",
       " <a class=\"lu8Lfh20c9DvvP05mqBf EUx7i75WfHuAC3MQKPkS\" href=\"https://n.news.naver.com/mnews/article/421/0008227401?sid=101\" nocr=\"1\" target=\"_blank\"><span class=\"sds-comps-text sds-comps-text-type-body2 sds-comps-text-weight-sm\">네이버뉴스</span></a>,\n",
       " <a class=\"lu8Lfh20c9DvvP05mqBf tym_MoKIfC84Aqvg9SKg\" href=\"https://www.news1.kr/industry/electronics/5771602\" nocr=\"1\" target=\"_blank\"><span class=\"sds-comps-text sds-comps-text-ellipsis-1 sds-comps-text-type-headline1\"><mark>삼성전자</mark>, '미션 임파서블' 예고편으로 OLED 우수성 알린다</span></a>,\n",
       " <a class=\"lu8Lfh20c9DvvP05mqBf OmR0jkNgHXA6BZNhMfn2\" href=\"https://www.news1.kr/industry/electronics/5771602\" nocr=\"1\" target=\"_blank\"><span class=\"sds-comps-text sds-comps-text-ellipsis-3 sds-comps-text-type-body1\"><mark>삼성전자</mark>(005930)는 전국 삼성 스토어 매장의 삼성 OLED(유기발광다이오드) TV와 결합된 무빙스타일과 더 프레임, QLED TV 제품 등에서 영화 '미션 임파서블 : 파이널 레코닝' 예고편을 상영한다고 2일 밝혔다. 화려한 액션과 영상미가 있는 영화 예고편을 자사 TV로 상영, 삼성 OLED의 높은 명암비와 생생한...</span></a>,\n",
       " <a class=\"lu8Lfh20c9DvvP05mqBf\" href=\"https://www.news1.kr/industry/electronics/5771602\" nocr=\"1\" target=\"_blank\"><div class=\"sds-comps-base-layout sds-comps-inline-layout sds-comps-image sds-rego-thumb-overlay Hyuplz379RtBDviKXzj6 fit-contain forced-ratio is-loading\" data-dimmed=\"3%\" data-sds-comp=\"ThumbnailOverlay\" style=\"width:104px;aspect-ratio:1/1\"><div style=\"width:0;height:0;padding-top:100%\"></div><img alt=\"&lt;mark&gt;삼성전자&lt;/mark&gt;, '미션 임파서블' 예고편으로 OLED 우수성 알린다의 이미지\" loading=\"lazy\" src=\"https://search.pstatic.net/common/?src=https%3A%2F%2Fimgnews.pstatic.net%2Fimage%2Forigin%2F421%2F2025%2F05%2F02%2F8227401.jpg&amp;type=f200_200&amp;expire=2&amp;refresh=true\" width=\"104\"/><span class=\"sds-comps-image-after-content\"></span></div></a>,\n",
       " <a class=\"lu8Lfh20c9DvvP05mqBf SENo9JISQCY6ik9nR69e\" href=\"https://www.etnews.com/20250502000026\" nocr=\"1\" target=\"_blank\"><span class=\"sds-comps-text sds-comps-text-ellipsis-1 sds-comps-text-type-body2 UwxlFxVCxhdNh2gNkBQ5\"><mark>삼성전자</mark> “OLED TV 화질, 영화로 직접 확인하세요”</span></a>,\n",
       " <a class=\"lu8Lfh20c9DvvP05mqBf EUx7i75WfHuAC3MQKPkS\" href=\"https://n.news.naver.com/mnews/article/030/0003309139?sid=105\" nocr=\"1\" target=\"_blank\"><span class=\"sds-comps-text sds-comps-text-type-body2 sds-comps-text-weight-sm\">네이버뉴스</span></a>,\n",
       " <a class=\"lu8Lfh20c9DvvP05mqBf SENo9JISQCY6ik9nR69e\" href=\"https://www.etoday.co.kr/news/view/2467449\" nocr=\"1\" target=\"_blank\"><span class=\"sds-comps-text sds-comps-text-ellipsis-1 sds-comps-text-type-body2 UwxlFxVCxhdNh2gNkBQ5\"><mark>삼성전자</mark>, 영화 '미션 임파서블'로 OLED TV 화질 알린다</span></a>,\n",
       " <a class=\"lu8Lfh20c9DvvP05mqBf SENo9JISQCY6ik9nR69e\" href=\"https://www.newsis.com/view/NISX20250502_0003162362\" nocr=\"1\" target=\"_blank\"><span class=\"sds-comps-text sds-comps-text-ellipsis-1 sds-comps-text-type-body2 UwxlFxVCxhdNh2gNkBQ5\"><mark>삼성전자</mark>, '미션 임파서블'로 올레드 화질 알린다</span></a>,\n",
       " <a class=\"lu8Lfh20c9DvvP05mqBf EUx7i75WfHuAC3MQKPkS\" href=\"https://n.news.naver.com/mnews/article/003/0013219353?sid=101\" nocr=\"1\" target=\"_blank\"><span class=\"sds-comps-text sds-comps-text-type-body2 sds-comps-text-weight-sm\">네이버뉴스</span></a>,\n",
       " <a class=\"lu8Lfh20c9DvvP05mqBf SENo9JISQCY6ik9nR69e\" href=\"https://www.yna.co.kr/view/PYH20250502010000013?input=1196m\" nocr=\"1\" target=\"_blank\"><span class=\"sds-comps-text sds-comps-text-ellipsis-1 sds-comps-text-type-body2 UwxlFxVCxhdNh2gNkBQ5\"><mark>삼성전자</mark>, '미션 임파서블: 파이널 레코닝'으로 OLED 화질 알린다</span></a>,\n",
       " <a class=\"lu8Lfh20c9DvvP05mqBf EUx7i75WfHuAC3MQKPkS\" href=\"https://n.news.naver.com/mnews/article/001/0015365242?sid=101\" nocr=\"1\" target=\"_blank\"><span class=\"sds-comps-text sds-comps-text-type-body2 sds-comps-text-weight-sm\">네이버뉴스</span></a>,\n",
       " <a class=\"lu8Lfh20c9DvvP05mqBf GAFvxWPhlt0qHtSLdtF5\" href=\"?de=&amp;docid=4210008227401&amp;ds=&amp;field=0&amp;mynews=0&amp;news_office_checked=&amp;nso=so%3Ar%2Cp%3Aall%2Ca%3Aall&amp;office_section_code=0&amp;office_type=0&amp;pd=-1&amp;photo=0&amp;query=%EC%82%BC%EC%84%B1%EC%A0%84%EC%9E%90&amp;related=1&amp;sm=tab_tnw&amp;sort=0&amp;ssc=tab.news.all\" nocr=\"1\" target=\"_self\"><span class=\"sds-comps-text sds-comps-text-type-body2 sds-comps-text-weight-sm\">관련뉴스 10건 전체보기</span></a>,\n",
       " <a class=\"lu8Lfh20c9DvvP05mqBf\" href=\"https://media.naver.com/press/001\" nocr=\"1\" target=\"_blank\"><div class=\"sds-comps-horizontal-layout sds-comps-inline-layout sds-comps-profile-thumbnail type-basic size-lg\" data-sds-comp=\"ProfileThumbnail\" height=\"24px\" width=\"24px\"><div class=\"sds-comps-base-layout sds-comps-inline-layout sds-comps-image sds-comps-image-circle fit-cover is-loading\" data-dimmed=\"3%\" data-sds-comp=\"CircleImage\" style=\"width:24px;height:24px;aspect-ratio:1/1\"><div style=\"width:0;height:0\"></div><img alt=\"연합뉴스의 프로필 이미지\" height=\"24\" loading=\"lazy\" src=\"https://search.pstatic.net/common/?src=https%3A%2F%2Fmimgnews.pstatic.net%2Fimage%2Fupload%2Foffice_logo%2F001%2F2017%2F06%2F29%2Flogo_001_18_20170629160329.png&amp;type=f54_54&amp;expire=24&amp;refresh=true\" width=\"24\"/></div></div></a>,\n",
       " <a class=\"lu8Lfh20c9DvvP05mqBf Tgl9QnDwOqaU_NbSJFAE\" href=\"https://media.naver.com/press/001\" nocr=\"1\" target=\"_blank\"><span class=\"sds-comps-text sds-comps-text-type-body2 sds-comps-text-weight-sm\">연합뉴스</span></a>,\n",
       " <a class=\"lu8Lfh20c9DvvP05mqBf EUx7i75WfHuAC3MQKPkS\" href=\"https://n.news.naver.com/mnews/article/001/0015365475?sid=105\" nocr=\"1\" target=\"_blank\"><span class=\"sds-comps-text sds-comps-text-type-body2 sds-comps-text-weight-sm\">네이버뉴스</span></a>,\n",
       " <a class=\"lu8Lfh20c9DvvP05mqBf tym_MoKIfC84Aqvg9SKg\" href=\"https://www.yna.co.kr/view/AKR20250502048800017?input=1195m\" nocr=\"1\" target=\"_blank\"><span class=\"sds-comps-text sds-comps-text-ellipsis-1 sds-comps-text-type-headline1\">[게시판] <mark>삼성전자</mark>-매일유업, 갤럭시 버즈3 '아몬드브리즈' 케이스 출시</span></a>,\n",
       " <a class=\"lu8Lfh20c9DvvP05mqBf OmR0jkNgHXA6BZNhMfn2\" href=\"https://www.yna.co.kr/view/AKR20250502048800017?input=1195m\" nocr=\"1\" target=\"_blank\"><span class=\"sds-comps-text sds-comps-text-ellipsis-3 sds-comps-text-type-body1\">▲ <mark>삼성전자</mark>가 매일유업과 함께 '갤럭시 버즈3 시리즈' 전용 '아몬드브리즈' 케이스 3종을 선보인다고 2일 밝혔다. 삼성닷컴과 온라인 오픈마켓, 전국 삼성스토어, 하이마트, 전자랜드 등에서 구매할 수 있다. '갤럭시 버즈3 프로'와 '갤럭시 버즈3'에 모두 호환되며 가격은 3만 3천 원이다. (서울=연합뉴스)</span></a>,\n",
       " <a class=\"lu8Lfh20c9DvvP05mqBf\" href=\"https://www.yna.co.kr/view/AKR20250502048800017?input=1195m\" nocr=\"1\" target=\"_blank\"><div class=\"sds-comps-base-layout sds-comps-inline-layout sds-comps-image sds-rego-thumb-overlay Hyuplz379RtBDviKXzj6 fit-contain forced-ratio is-loading\" data-dimmed=\"3%\" data-sds-comp=\"ThumbnailOverlay\" style=\"width:104px;aspect-ratio:1/1\"><div style=\"width:0;height:0;padding-top:100%\"></div><img alt=\"[게시판] &lt;mark&gt;삼성전자&lt;/mark&gt;-매일유업, 갤럭시 버즈3 '아몬드브리즈' 케이스 출시의 이미지\" loading=\"lazy\" src=\"https://search.pstatic.net/common/?src=https%3A%2F%2Fimgnews.pstatic.net%2Fimage%2Forigin%2F001%2F2025%2F05%2F02%2F15365475.jpg&amp;type=f200_200&amp;expire=2&amp;refresh=true\" width=\"104\"/><span class=\"sds-comps-image-after-content\"></span></div></a>,\n",
       " <a class=\"lu8Lfh20c9DvvP05mqBf SENo9JISQCY6ik9nR69e\" href=\"https://sports.khan.co.kr/article/202505020913003?pt=nv\" nocr=\"1\" target=\"_blank\"><span class=\"sds-comps-text sds-comps-text-ellipsis-1 sds-comps-text-type-body2 UwxlFxVCxhdNh2gNkBQ5\"><mark>삼성전자</mark>, ‘갤럭시 버즈3 시리즈 아몬드브리즈 케이스’ 출시</span></a>,\n",
       " <a class=\"lu8Lfh20c9DvvP05mqBf EUx7i75WfHuAC3MQKPkS\" href=\"https://n.news.naver.com/mnews/article/144/0001036936?sid=105\" nocr=\"1\" target=\"_blank\"><span class=\"sds-comps-text sds-comps-text-type-body2 sds-comps-text-weight-sm\">네이버뉴스</span></a>,\n",
       " <a class=\"lu8Lfh20c9DvvP05mqBf SENo9JISQCY6ik9nR69e\" href=\"http://www.newsprime.co.kr/news/article.html?no=686728\" nocr=\"1\" target=\"_blank\"><span class=\"sds-comps-text sds-comps-text-ellipsis-1 sds-comps-text-type-body2 UwxlFxVCxhdNh2gNkBQ5\"><mark>삼성</mark>, 매일유업과 '갤럭시 버즈3 아몬드브리즈 케이스' 출시</span></a>,\n",
       " <a class=\"lu8Lfh20c9DvvP05mqBf SENo9JISQCY6ik9nR69e\" href=\"https://www.news1.kr/it-science/general-it/5771621\" nocr=\"1\" target=\"_blank\"><span class=\"sds-comps-text sds-comps-text-ellipsis-1 sds-comps-text-type-body2 UwxlFxVCxhdNh2gNkBQ5\"><mark>삼성전자</mark>, 갤럭시 버즈3 시리즈 전용 '아몬드브리즈' 케이스 출시</span></a>,\n",
       " <a class=\"lu8Lfh20c9DvvP05mqBf EUx7i75WfHuAC3MQKPkS\" href=\"https://n.news.naver.com/mnews/article/421/0008227433?sid=105\" nocr=\"1\" target=\"_blank\"><span class=\"sds-comps-text sds-comps-text-type-body2 sds-comps-text-weight-sm\">네이버뉴스</span></a>,\n",
       " <a class=\"lu8Lfh20c9DvvP05mqBf\" href=\"https://media.naver.com/press/215\" nocr=\"1\" target=\"_blank\"><div class=\"sds-comps-horizontal-layout sds-comps-inline-layout sds-comps-profile-thumbnail type-basic size-lg\" data-sds-comp=\"ProfileThumbnail\" height=\"24px\" width=\"24px\"><div class=\"sds-comps-base-layout sds-comps-inline-layout sds-comps-image sds-comps-image-circle fit-cover is-loading\" data-dimmed=\"3%\" data-sds-comp=\"CircleImage\" style=\"width:24px;height:24px;aspect-ratio:1/1\"><div style=\"width:0;height:0\"></div><img alt=\"한국경제TV의 프로필 이미지\" height=\"24\" loading=\"lazy\" src=\"https://search.pstatic.net/common/?src=https%3A%2F%2Fmimgnews.pstatic.net%2Fimage%2Fupload%2Foffice_logo%2F215%2F2018%2F09%2F18%2Flogo_215_18_20180918133718.png&amp;type=f54_54&amp;expire=24&amp;refresh=true\" width=\"24\"/></div></div></a>,\n",
       " <a class=\"lu8Lfh20c9DvvP05mqBf Tgl9QnDwOqaU_NbSJFAE\" href=\"https://media.naver.com/press/215\" nocr=\"1\" target=\"_blank\"><span class=\"sds-comps-text sds-comps-text-type-body2 sds-comps-text-weight-sm\">한국경제TV</span></a>,\n",
       " <a class=\"lu8Lfh20c9DvvP05mqBf EUx7i75WfHuAC3MQKPkS\" href=\"https://n.news.naver.com/mnews/article/215/0001207909?sid=101\" nocr=\"1\" target=\"_blank\"><span class=\"sds-comps-text sds-comps-text-type-body2 sds-comps-text-weight-sm\">네이버뉴스</span></a>,\n",
       " <a class=\"lu8Lfh20c9DvvP05mqBf tym_MoKIfC84Aqvg9SKg\" href=\"http://www.wowtv.co.kr/NewsCenter/News/Read?articleId=A202505010384&amp;t=NN\" nocr=\"1\" target=\"_blank\"><span class=\"sds-comps-text sds-comps-text-ellipsis-1 sds-comps-text-type-headline1\"><mark>삼성전자</mark>, 구형 TV 반납하면 30만원 증정</span></a>,\n",
       " <a class=\"lu8Lfh20c9DvvP05mqBf OmR0jkNgHXA6BZNhMfn2\" href=\"http://www.wowtv.co.kr/NewsCenter/News/Read?articleId=A202505010384&amp;t=NN\" nocr=\"1\" target=\"_blank\"><span class=\"sds-comps-text sds-comps-text-ellipsis-3 sds-comps-text-type-body1\"><mark>삼성전자</mark>가 '삼성 OLED' TV의 차별화된 시청 경험을 보다 많은 고객이 누릴 수 있도록 하기 위해 '삼성 OLED로 바꿔보상' 프로모션을 첫 시작한다. <mark>삼성전자</mark>는 이달 1일부터 다음 달 30일까지 삼성스토어·삼성닷컴 등 다양한 온·오프라인 채널에서 진행되는 이번 삼성 OLED 단독 프로모션을 통해 'AI TV...</span></a>,\n",
       " <a class=\"lu8Lfh20c9DvvP05mqBf\" href=\"http://www.wowtv.co.kr/NewsCenter/News/Read?articleId=A202505010384&amp;t=NN\" nocr=\"1\" target=\"_blank\"><div class=\"sds-comps-base-layout sds-comps-inline-layout sds-comps-image sds-rego-thumb-overlay Hyuplz379RtBDviKXzj6 fit-contain forced-ratio is-loading\" data-dimmed=\"3%\" data-sds-comp=\"ThumbnailOverlay\" style=\"width:104px;aspect-ratio:1/1\"><div style=\"width:0;height:0;padding-top:100%\"></div><img alt=\"&lt;mark&gt;삼성전자&lt;/mark&gt;, 구형 TV 반납하면 30만원 증정의 이미지\" loading=\"lazy\" src=\"https://search.pstatic.net/common/?src=https%3A%2F%2Fimgnews.pstatic.net%2Fimage%2Forigin%2F215%2F2025%2F05%2F01%2F1207909.jpg&amp;type=f200_200&amp;expire=2&amp;refresh=true\" width=\"104\"/><span class=\"sds-comps-image-after-content\"></span></div></a>,\n",
       " <a class=\"lu8Lfh20c9DvvP05mqBf SENo9JISQCY6ik9nR69e\" href=\"http://www.fnnews.com/news/202505011009574412\" nocr=\"1\" target=\"_blank\"><span class=\"sds-comps-text sds-comps-text-ellipsis-1 sds-comps-text-type-body2 UwxlFxVCxhdNh2gNkBQ5\"><mark>삼성전자</mark>, 구형 TV 반납하고 OLED 사면 30만원 보상</span></a>,\n",
       " <a class=\"lu8Lfh20c9DvvP05mqBf EUx7i75WfHuAC3MQKPkS\" href=\"https://n.news.naver.com/mnews/article/014/0005344134?sid=101\" nocr=\"1\" target=\"_blank\"><span class=\"sds-comps-text sds-comps-text-type-body2 sds-comps-text-weight-sm\">네이버뉴스</span></a>,\n",
       " <a class=\"lu8Lfh20c9DvvP05mqBf SENo9JISQCY6ik9nR69e\" href=\"https://www.newsis.com/view/NISX20250501_0003161108\" nocr=\"1\" target=\"_blank\"><span class=\"sds-comps-text sds-comps-text-ellipsis-1 sds-comps-text-type-body2 UwxlFxVCxhdNh2gNkBQ5\"><mark>삼성전자</mark>, 올레드TV 프로모션…구형 TV 30만원 보상판매</span></a>,\n",
       " <a class=\"lu8Lfh20c9DvvP05mqBf EUx7i75WfHuAC3MQKPkS\" href=\"https://n.news.naver.com/mnews/article/003/0013217278?sid=101\" nocr=\"1\" target=\"_blank\"><span class=\"sds-comps-text sds-comps-text-type-body2 sds-comps-text-weight-sm\">네이버뉴스</span></a>,\n",
       " <a class=\"lu8Lfh20c9DvvP05mqBf\" href=\"https://media.naver.com/press/092\" nocr=\"1\" target=\"_blank\"><div class=\"sds-comps-horizontal-layout sds-comps-inline-layout sds-comps-profile-thumbnail type-basic size-lg\" data-sds-comp=\"ProfileThumbnail\" height=\"24px\" width=\"24px\"><div class=\"sds-comps-base-layout sds-comps-inline-layout sds-comps-image sds-comps-image-circle fit-cover is-loading\" data-dimmed=\"3%\" data-sds-comp=\"CircleImage\" style=\"width:24px;height:24px;aspect-ratio:1/1\"><div style=\"width:0;height:0\"></div><img alt=\"지디넷코리아의 프로필 이미지\" height=\"24\" loading=\"lazy\" src=\"https://search.pstatic.net/common/?src=https%3A%2F%2Fmimgnews.pstatic.net%2Fimage%2Fupload%2Foffice_logo%2F092%2F2022%2F09%2F05%2Flogo_092_18_20220905090445.png&amp;type=f54_54&amp;expire=24&amp;refresh=true\" width=\"24\"/></div></div></a>,\n",
       " <a class=\"lu8Lfh20c9DvvP05mqBf Tgl9QnDwOqaU_NbSJFAE\" href=\"https://media.naver.com/press/092\" nocr=\"1\" target=\"_blank\"><span class=\"sds-comps-text sds-comps-text-type-body2 sds-comps-text-weight-sm\">지디넷코리아</span></a>,\n",
       " <a class=\"lu8Lfh20c9DvvP05mqBf EUx7i75WfHuAC3MQKPkS\" href=\"https://n.news.naver.com/mnews/article/092/0002373008?sid=105\" nocr=\"1\" target=\"_blank\"><span class=\"sds-comps-text sds-comps-text-type-body2 sds-comps-text-weight-sm\">네이버뉴스</span></a>,\n",
       " <a class=\"lu8Lfh20c9DvvP05mqBf tym_MoKIfC84Aqvg9SKg\" href=\"https://zdnet.co.kr/view/?no=20250430085439\" nocr=\"1\" target=\"_blank\"><span class=\"sds-comps-text sds-comps-text-ellipsis-1 sds-comps-text-type-headline1\"><mark>삼성전자</mark>, 엔비디아향 'HBM3E 12단' 선제 양산 나섰다</span></a>,\n",
       " <a class=\"lu8Lfh20c9DvvP05mqBf OmR0jkNgHXA6BZNhMfn2\" href=\"https://zdnet.co.kr/view/?no=20250430085439\" nocr=\"1\" target=\"_blank\"><span class=\"sds-comps-text sds-comps-text-ellipsis-3 sds-comps-text-type-body1\"><mark>삼성전자</mark>가 올 1분기부터 HBM3E 12단 생산량 확대에 본격 나섰다. 그동안 가동률이 저조하던 제조 라인을 '대량 양산' 체제로 전환시킨 것으로 파악됐다. 이르면 상반기 내 엔비디아로부터 공급 승인이 완료되는 시점에 맞춰 선제적으로 HBM3E 12단 제품을 양산, 적기에 공급하려는 전략으로 풀이된다....</span></a>,\n",
       " <a class=\"lu8Lfh20c9DvvP05mqBf\" href=\"https://zdnet.co.kr/view/?no=20250430085439\" nocr=\"1\" target=\"_blank\"><div class=\"sds-comps-base-layout sds-comps-inline-layout sds-comps-image sds-rego-thumb-overlay Hyuplz379RtBDviKXzj6 fit-contain forced-ratio is-loading\" data-dimmed=\"3%\" data-sds-comp=\"ThumbnailOverlay\" style=\"width:104px;aspect-ratio:1/1\"><div style=\"width:0;height:0;padding-top:100%\"></div><img alt=\"&lt;mark&gt;삼성전자&lt;/mark&gt;, 엔비디아향 'HBM3E 12단' 선제 양산 나섰다의 이미지\" loading=\"lazy\" src=\"https://search.pstatic.net/common/?src=https%3A%2F%2Fimgnews.pstatic.net%2Fimage%2Forigin%2F092%2F2025%2F05%2F02%2F2373008.jpg&amp;type=f200_200&amp;expire=2&amp;refresh=true\" width=\"104\"/><span class=\"sds-comps-image-after-content\"></span></div></a>,\n",
       " <a class=\"lu8Lfh20c9DvvP05mqBf SENo9JISQCY6ik9nR69e\" href=\"https://zdnet.co.kr/view/?no=20250502083741\" nocr=\"1\" target=\"_blank\"><span class=\"sds-comps-text sds-comps-text-ellipsis-1 sds-comps-text-type-body2 UwxlFxVCxhdNh2gNkBQ5\"><mark>삼성전자</mark>, 재고 리스크에도 HBM3E 12단 선제 양산 나선 이유는</span></a>,\n",
       " <a class=\"lu8Lfh20c9DvvP05mqBf EUx7i75WfHuAC3MQKPkS\" href=\"https://n.news.naver.com/mnews/article/092/0002373009?sid=105\" nocr=\"1\" target=\"_blank\"><span class=\"sds-comps-text sds-comps-text-type-body2 sds-comps-text-weight-sm\">네이버뉴스</span></a>,\n",
       " <a class=\"lu8Lfh20c9DvvP05mqBf\" href=\"https://media.naver.com/press/037\" nocr=\"1\" target=\"_blank\"><div class=\"sds-comps-horizontal-layout sds-comps-inline-layout sds-comps-profile-thumbnail type-basic size-lg\" data-sds-comp=\"ProfileThumbnail\" height=\"24px\" width=\"24px\"><div class=\"sds-comps-base-layout sds-comps-inline-layout sds-comps-image sds-comps-image-circle fit-cover is-loading\" data-dimmed=\"3%\" data-sds-comp=\"CircleImage\" style=\"width:24px;height:24px;aspect-ratio:1/1\"><div style=\"width:0;height:0\"></div><img alt=\"주간동아의 프로필 이미지\" height=\"24\" loading=\"lazy\" src=\"https://search.pstatic.net/common/?src=https%3A%2F%2Fmimgnews.pstatic.net%2Fimage%2Fupload%2Foffice_logo%2F037%2F2022%2F07%2F13%2Flogo_037_18_20220713135733.png&amp;type=f54_54&amp;expire=24&amp;refresh=true\" width=\"24\"/></div></div></a>,\n",
       " <a class=\"lu8Lfh20c9DvvP05mqBf Tgl9QnDwOqaU_NbSJFAE\" href=\"https://media.naver.com/press/037\" nocr=\"1\" target=\"_blank\"><span class=\"sds-comps-text sds-comps-text-type-body2 sds-comps-text-weight-sm\">주간동아</span></a>,\n",
       " <a class=\"lu8Lfh20c9DvvP05mqBf EUx7i75WfHuAC3MQKPkS\" href=\"https://n.news.naver.com/mnews/article/037/0000036262?sid=101\" nocr=\"1\" target=\"_blank\"><span class=\"sds-comps-text sds-comps-text-type-body2 sds-comps-text-weight-sm\">네이버뉴스</span></a>,\n",
       " <a class=\"lu8Lfh20c9DvvP05mqBf tym_MoKIfC84Aqvg9SKg\" href=\"https://weekly.donga.com/3/all/11/5580127/1\" nocr=\"1\" target=\"_blank\"><span class=\"sds-comps-text sds-comps-text-ellipsis-1 sds-comps-text-type-headline1\"><mark>삼성전자</mark>, 역대 최대 분기 매출</span></a>,\n",
       " <a class=\"lu8Lfh20c9DvvP05mqBf OmR0jkNgHXA6BZNhMfn2\" href=\"https://weekly.donga.com/3/all/11/5580127/1\" nocr=\"1\" target=\"_blank\"><span class=\"sds-comps-text sds-comps-text-ellipsis-3 sds-comps-text-type-body1\"><mark>삼성전자</mark>가 4월 30일 올해 1분기 매출 79조1400억 원, 영업이익 6조7000억 원 확정 실적을 발표했다. 역대 최대 분기 매출이다. 모바일경험(MX) 부문이 갤럭시 S25 시리즈 판매 호조로 4조 원 넘는 영업이익을 올리며 전사 실적을 견인했다. 반면 반도체(DS) 부문은 영업이익 1조1000억 원을 기록해 시장...</span></a>,\n",
       " <a class=\"lu8Lfh20c9DvvP05mqBf\" href=\"https://weekly.donga.com/3/all/11/5580127/1\" nocr=\"1\" target=\"_blank\"><div class=\"sds-comps-base-layout sds-comps-inline-layout sds-comps-image sds-rego-thumb-overlay Hyuplz379RtBDviKXzj6 fit-contain forced-ratio is-loading\" data-dimmed=\"3%\" data-sds-comp=\"ThumbnailOverlay\" style=\"width:104px;aspect-ratio:1/1\"><div style=\"width:0;height:0;padding-top:100%\"></div><img alt=\"&lt;mark&gt;삼성전자&lt;/mark&gt;, 역대 최대 분기 매출의 이미지\" loading=\"lazy\" src=\"https://search.pstatic.net/common/?src=https%3A%2F%2Fimgnews.pstatic.net%2Fimage%2Forigin%2F037%2F2025%2F05%2F02%2F36262.jpg&amp;type=f200_200&amp;expire=2&amp;refresh=true\" width=\"104\"/><span class=\"sds-comps-image-after-content\"></span></div></a>,\n",
       " <a class=\"lu8Lfh20c9DvvP05mqBf\" href=\"https://media.naver.com/press/003\" nocr=\"1\" target=\"_blank\"><div class=\"sds-comps-horizontal-layout sds-comps-inline-layout sds-comps-profile-thumbnail type-basic size-lg\" data-sds-comp=\"ProfileThumbnail\" height=\"24px\" width=\"24px\"><div class=\"sds-comps-base-layout sds-comps-inline-layout sds-comps-image sds-comps-image-circle fit-cover is-loading\" data-dimmed=\"3%\" data-sds-comp=\"CircleImage\" style=\"width:24px;height:24px;aspect-ratio:1/1\"><div style=\"width:0;height:0\"></div><img alt=\"뉴시스의 프로필 이미지\" height=\"24\" loading=\"lazy\" src=\"https://search.pstatic.net/common/?src=https%3A%2F%2Fmimgnews.pstatic.net%2Fimage%2Fupload%2Foffice_logo%2F003%2F2024%2F07%2F31%2Flogo_003_18_20240731102705.png&amp;type=f54_54&amp;expire=24&amp;refresh=true\" width=\"24\"/></div></div></a>,\n",
       " <a class=\"lu8Lfh20c9DvvP05mqBf Tgl9QnDwOqaU_NbSJFAE\" href=\"https://media.naver.com/press/003\" nocr=\"1\" target=\"_blank\"><span class=\"sds-comps-text sds-comps-text-type-body2 sds-comps-text-weight-sm\">뉴시스</span></a>,\n",
       " <a class=\"lu8Lfh20c9DvvP05mqBf EUx7i75WfHuAC3MQKPkS\" href=\"https://n.news.naver.com/mnews/article/003/0013219719?sid=101\" nocr=\"1\" target=\"_blank\"><span class=\"sds-comps-text sds-comps-text-type-body2 sds-comps-text-weight-sm\">네이버뉴스</span></a>,\n",
       " <a class=\"lu8Lfh20c9DvvP05mqBf tym_MoKIfC84Aqvg9SKg\" href=\"https://www.newsis.com/view/NISX20250502_0003162411\" nocr=\"1\" target=\"_blank\"><span class=\"sds-comps-text sds-comps-text-ellipsis-1 sds-comps-text-type-headline1\"><mark>삼성전자</mark>, 국내투자 줄이나…\"SK하닉보다 공장 건설비 더 낮다\"</span></a>,\n",
       " <a class=\"lu8Lfh20c9DvvP05mqBf OmR0jkNgHXA6BZNhMfn2\" href=\"https://www.newsis.com/view/NISX20250502_0003162411\" nocr=\"1\" target=\"_blank\"><span class=\"sds-comps-text sds-comps-text-ellipsis-3 sds-comps-text-type-body1\">올해 <mark>삼성전자</mark>의 반도체 공장 건설비용이 SK하이닉스보다 더 적을 것으로 보인다. <mark>삼성전자</mark>가 SK하이닉스보다 공장 건설비용이 낮아지는 것은 이례적이다. 그만큼 고대역폭메모리(HBM)와 파운드리 사업에서 부진을 겪으며, 공장 및 시설 투자 감소가 나타나는 모습이다. 2일 SEMI(옛...</span></a>,\n",
       " <a class=\"lu8Lfh20c9DvvP05mqBf\" href=\"https://www.newsis.com/view/NISX20250502_0003162411\" nocr=\"1\" target=\"_blank\"><div class=\"sds-comps-base-layout sds-comps-inline-layout sds-comps-image sds-rego-thumb-overlay Hyuplz379RtBDviKXzj6 fit-contain forced-ratio is-loading\" data-dimmed=\"3%\" data-sds-comp=\"ThumbnailOverlay\" style=\"width:104px;aspect-ratio:1/1\"><div style=\"width:0;height:0;padding-top:100%\"></div><img alt=\"&lt;mark&gt;삼성전자&lt;/mark&gt;, 국내투자 줄이나…&amp;quot;SK하닉보다 공장 건설비 더 낮다&amp;quot;의 이미지\" loading=\"lazy\" src=\"https://search.pstatic.net/common/?src=https%3A%2F%2Fimgnews.pstatic.net%2Fimage%2Forigin%2F003%2F2025%2F05%2F02%2F13219719.jpg&amp;type=f200_200&amp;expire=2&amp;refresh=true\" width=\"104\"/><span class=\"sds-comps-image-after-content\"></span></div></a>,\n",
       " <a class=\"lu8Lfh20c9DvvP05mqBf\" href=\"https://media.naver.com/press/030\" nocr=\"1\" target=\"_blank\"><div class=\"sds-comps-horizontal-layout sds-comps-inline-layout sds-comps-profile-thumbnail type-basic size-lg\" data-sds-comp=\"ProfileThumbnail\" height=\"24px\" width=\"24px\"><div class=\"sds-comps-base-layout sds-comps-inline-layout sds-comps-image sds-comps-image-circle fit-cover is-loading\" data-dimmed=\"3%\" data-sds-comp=\"CircleImage\" style=\"width:24px;height:24px;aspect-ratio:1/1\"><div style=\"width:0;height:0\"></div><img alt=\"전자신문의 프로필 이미지\" height=\"24\" loading=\"lazy\" src=\"https://search.pstatic.net/common/?src=https%3A%2F%2Fmimgnews.pstatic.net%2Fimage%2Fupload%2Foffice_logo%2F030%2F2017%2F01%2F05%2Flogo_030_18_20170105111205.png&amp;type=f54_54&amp;expire=24&amp;refresh=true\" width=\"24\"/></div></div></a>,\n",
       " <a class=\"lu8Lfh20c9DvvP05mqBf Tgl9QnDwOqaU_NbSJFAE\" href=\"https://media.naver.com/press/030\" nocr=\"1\" target=\"_blank\"><span class=\"sds-comps-text sds-comps-text-type-body2 sds-comps-text-weight-sm\">전자신문</span></a>,\n",
       " <a class=\"lu8Lfh20c9DvvP05mqBf EUx7i75WfHuAC3MQKPkS\" href=\"https://n.news.naver.com/mnews/article/030/0003308867?sid=105\" nocr=\"1\" target=\"_blank\"><span class=\"sds-comps-text sds-comps-text-type-body2 sds-comps-text-weight-sm\">네이버뉴스</span></a>,\n",
       " <a class=\"lu8Lfh20c9DvvP05mqBf tym_MoKIfC84Aqvg9SKg\" href=\"https://www.etnews.com/20250501000014\" nocr=\"1\" target=\"_blank\"><span class=\"sds-comps-text sds-comps-text-ellipsis-1 sds-comps-text-type-headline1\"><mark>삼성전자</mark>, '삼성 OLED로 바꿔보상' 프로모션</span></a>,\n",
       " <a class=\"lu8Lfh20c9DvvP05mqBf OmR0jkNgHXA6BZNhMfn2\" href=\"https://www.etnews.com/20250501000014\" nocr=\"1\" target=\"_blank\"><span class=\"sds-comps-text sds-comps-text-ellipsis-3 sds-comps-text-type-body1\"><mark>삼성전자</mark>가 '삼성 OLED' TV의 차별화된 시청 경험을 보다 많은 고객이 누릴 수 있도록 하기 위해 '삼성 OLED로 바꿔보상' 프로모션을 시작한다. <mark>삼성전자</mark>는 다음 달 30일까지 55형 이상 2025년형 '삼성 OLED' TV 12개 모델을 구매한 고객이 사용하던 구형 TV를 반납하면 30만원 상당 <mark>삼성전자</mark> 멤버십 포인트를...</span></a>,\n",
       " <a class=\"lu8Lfh20c9DvvP05mqBf\" href=\"https://www.etnews.com/20250501000014\" nocr=\"1\" target=\"_blank\"><div class=\"sds-comps-base-layout sds-comps-inline-layout sds-comps-image sds-rego-thumb-overlay Hyuplz379RtBDviKXzj6 fit-contain forced-ratio is-loading\" data-dimmed=\"3%\" data-sds-comp=\"ThumbnailOverlay\" style=\"width:104px;aspect-ratio:1/1\"><div style=\"width:0;height:0;padding-top:100%\"></div><img alt=\"&lt;mark&gt;삼성전자&lt;/mark&gt;, '삼성 OLED로 바꿔보상' 프로모션의 이미지\" loading=\"lazy\" src=\"https://search.pstatic.net/common/?src=https%3A%2F%2Fimgnews.pstatic.net%2Fimage%2Forigin%2F030%2F2025%2F05%2F01%2F3308867.jpg&amp;type=f200_200&amp;expire=2&amp;refresh=true\" width=\"104\"/><span class=\"sds-comps-image-after-content\"></span></div></a>,\n",
       " <a class=\"lu8Lfh20c9DvvP05mqBf SENo9JISQCY6ik9nR69e\" href=\"https://zdnet.co.kr/view/?no=20250501133458\" nocr=\"1\" target=\"_blank\"><span class=\"sds-comps-text sds-comps-text-ellipsis-1 sds-comps-text-type-body2 UwxlFxVCxhdNh2gNkBQ5\"><mark>삼성전자</mark>, '삼성 OLED로 바꿔보상' 프로모션</span></a>,\n",
       " <a class=\"lu8Lfh20c9DvvP05mqBf EUx7i75WfHuAC3MQKPkS\" href=\"https://n.news.naver.com/mnews/article/092/0002372924?sid=105\" nocr=\"1\" target=\"_blank\"><span class=\"sds-comps-text sds-comps-text-type-body2 sds-comps-text-weight-sm\">네이버뉴스</span></a>,\n",
       " <a class=\"lu8Lfh20c9DvvP05mqBf\" href=\"https://media.naver.com/press/015\" nocr=\"1\" target=\"_blank\"><div class=\"sds-comps-horizontal-layout sds-comps-inline-layout sds-comps-profile-thumbnail type-basic size-lg\" data-sds-comp=\"ProfileThumbnail\" height=\"24px\" width=\"24px\"><div class=\"sds-comps-base-layout sds-comps-inline-layout sds-comps-image sds-comps-image-circle fit-cover is-loading\" data-dimmed=\"3%\" data-sds-comp=\"CircleImage\" style=\"width:24px;height:24px;aspect-ratio:1/1\"><div style=\"width:0;height:0\"></div><img alt=\"한국경제의 프로필 이미지\" height=\"24\" loading=\"lazy\" src=\"https://search.pstatic.net/common/?src=https%3A%2F%2Fmimgnews.pstatic.net%2Fimage%2Fupload%2Foffice_logo%2F015%2F2018%2F08%2F01%2Flogo_015_18_20180801163901.png&amp;type=f54_54&amp;expire=24&amp;refresh=true\" width=\"24\"/></div></div></a>,\n",
       " <a class=\"lu8Lfh20c9DvvP05mqBf Tgl9QnDwOqaU_NbSJFAE\" href=\"https://media.naver.com/press/015\" nocr=\"1\" target=\"_blank\"><span class=\"sds-comps-text sds-comps-text-type-body2 sds-comps-text-weight-sm\">한국경제</span></a>,\n",
       " <a class=\"lu8Lfh20c9DvvP05mqBf EUx7i75WfHuAC3MQKPkS\" href=\"https://n.news.naver.com/mnews/article/015/0005125918?sid=101\" nocr=\"1\" target=\"_blank\"><span class=\"sds-comps-text sds-comps-text-type-body2 sds-comps-text-weight-sm\">네이버뉴스</span></a>,\n",
       " <a class=\"lu8Lfh20c9DvvP05mqBf tym_MoKIfC84Aqvg9SKg\" href=\"https://www.hankyung.com/article/202504305028i\" nocr=\"1\" target=\"_blank\"><span class=\"sds-comps-text sds-comps-text-ellipsis-1 sds-comps-text-type-headline1\"><mark>삼성전자</mark> 1분기 영업익 6.7조…반도체는 1.1조 그쳐</span></a>,\n",
       " <a class=\"lu8Lfh20c9DvvP05mqBf OmR0jkNgHXA6BZNhMfn2\" href=\"https://www.hankyung.com/article/202504305028i\" nocr=\"1\" target=\"_blank\"><span class=\"sds-comps-text sds-comps-text-ellipsis-3 sds-comps-text-type-body1\"><mark>삼성전자</mark>의 올 1분기 매출이 79조1405억원, 영업이익 6조6853억원을 기록했다. 매출은 전년 동기 대비 10% 증가하며 사상 최대치를 기록했고, 영업이익은 1.2% 증가하며 지난해 같은 기간과 비슷한 수준을 유지했다. DS부문의 1분기 영업이익은 1조1000억원으로 집계됐다. 지난해 같은기간(1조9000억원) 대비 40...</span></a>,\n",
       " <a class=\"lu8Lfh20c9DvvP05mqBf\" href=\"https://www.hankyung.com/article/202504305028i\" nocr=\"1\" target=\"_blank\"><div class=\"sds-comps-base-layout sds-comps-inline-layout sds-comps-image sds-rego-thumb-overlay Hyuplz379RtBDviKXzj6 fit-contain forced-ratio is-loading\" data-dimmed=\"3%\" data-sds-comp=\"ThumbnailOverlay\" style=\"width:104px;aspect-ratio:1/1\"><div style=\"width:0;height:0;padding-top:100%\"></div><img alt=\"&lt;mark&gt;삼성전자&lt;/mark&gt; 1분기 영업익 6.7조…반도체는 1.1조 그쳐의 이미지\" loading=\"lazy\" src=\"https://search.pstatic.net/common/?src=https%3A%2F%2Fimgnews.pstatic.net%2Fimage%2Forigin%2F015%2F2025%2F04%2F30%2F5125918.jpg&amp;type=f200_200&amp;expire=2&amp;refresh=true\" width=\"104\"/><span class=\"sds-comps-image-after-content\"></span></div></a>,\n",
       " <a class=\"lu8Lfh20c9DvvP05mqBf SENo9JISQCY6ik9nR69e\" href=\"https://www.yna.co.kr/view/AKR20250430037752003?input=1195m\" nocr=\"1\" target=\"_blank\"><span class=\"sds-comps-text sds-comps-text-ellipsis-1 sds-comps-text-type-body2 UwxlFxVCxhdNh2gNkBQ5\"><mark>삼성전자</mark>, '갤럭시 효과'에 1분기 호실적…매출 사상 최대(종합)</span></a>,\n",
       " <a class=\"lu8Lfh20c9DvvP05mqBf EUx7i75WfHuAC3MQKPkS\" href=\"https://n.news.naver.com/mnews/article/001/0015360803?sid=105\" nocr=\"1\" target=\"_blank\"><span class=\"sds-comps-text sds-comps-text-type-body2 sds-comps-text-weight-sm\">네이버뉴스</span></a>]"
      ]
     },
     "execution_count": 42,
     "metadata": {},
     "output_type": "execute_result"
    }
   ],
   "source": [
    "crawl_naver_news(\"삼성전자\", max_results=5)"
   ]
  },
  {
   "cell_type": "code",
   "execution_count": 44,
   "id": "4f94c01b",
   "metadata": {},
   "outputs": [
    {
     "name": "stderr",
     "output_type": "stream",
     "text": [
      "Some weights of BertForSequenceClassification were not initialized from the model checkpoint at beomi/kcbert-base and are newly initialized: ['classifier.bias', 'classifier.weight']\n",
      "You should probably TRAIN this model on a down-stream task to be able to use it for predictions and inference.\n",
      "c:\\Users\\humming\\anaconda3\\Lib\\site-packages\\transformers\\tokenization_utils_base.py:1601: FutureWarning: `clean_up_tokenization_spaces` was not set. It will be set to `True` by default. This behavior will be depracted in transformers v4.45, and will be then set to `False` by default. For more details check this issue: https://github.com/huggingface/transformers/issues/31884\n",
      "  warnings.warn(\n"
     ]
    },
    {
     "name": "stdout",
     "output_type": "stream",
     "text": [
      "[{'label': 'positive', 'score': 0.9994496703147888}]\n"
     ]
    }
   ],
   "source": [
    "from transformers import pipeline\n",
    "\n",
    "sentiment = pipeline(\n",
    "    \"sentiment-analysis\",\n",
    "    model=\"beomi/kcbert-base\",\n",
    "    tokenizer=\"beomi/kcbert-base\",\n",
    "    clean_up_tokenization_spaces=True,\n",
    "    device=0  # CUDA 사용 가능 시\n",
    ")\n",
    "\n",
    "def analyze_sentiment(text):from transformers import pipeline\n",
    "\n",
    "sentiment = pipeline(\n",
    "    \"sentiment-analysis\",\n",
    "    model=\"snunlp/KR-FinBert-SC\",  # 또는 \"nlpai-lab/kcbert-base-sentiment\"\n",
    "    tokenizer=\"snunlp/KR-FinBert-SC\",\n",
    "    device=0  # GPU 사용 가능 시\n",
    ")\n",
    "\n",
    "result = sentiment(\"이 기업의 실적이 매우 좋습니다.\")\n",
    "print(result)\n"
   ]
  },
  {
   "cell_type": "code",
   "execution_count": 49,
   "id": "9c0f440c",
   "metadata": {},
   "outputs": [
    {
     "name": "stdout",
     "output_type": "stream",
     "text": [
      "검찰, '삼성전자 반도체 핵심기술 유출' 공범 구속기소 [{'label': 'negative', 'score': 0.999768078327179}]\n",
      "삼성전자의 반도체 핵심 기술을 중국 경쟁사에 유출한 혐의로 징역 7년을 선고 받은 삼성전자 전 직원 사건과 관련해 검찰이 공범 1명을 추가로 재판에 넘겼다. 2일 서울중앙지검 정보기술범죄수사부(부장검사 안동건)는 산업기술의 유출 방지 및 보호에 관한 법률 위반 등 혐의로 삼성전자 엔지니어 출신... [{'label': 'negative', 'score': 0.9997829794883728}]\n",
      "체포 시 대화방에 '하트'…삼성전자 기술 유출 전 연구원 기소 [{'label': 'negative', 'score': 0.9997010827064514}]\n",
      "삼성전자 핵심기술 中 빼돌린 전 직원…檢 구속기소 [{'label': 'negative', 'score': 0.999790370464325}]\n",
      "검찰 '반도체 핵심기술 유출' 삼성전자 전 직원 구속기소 [{'label': 'negative', 'score': 0.9997672438621521}]\n",
      "'중국기업에 반도체 기술 유출' 전 삼성전자 직원 구속 기소 [{'label': 'negative', 'score': 0.9997907280921936}]\n",
      "삼성전자가 OLED(유기발광다이오드) TV로 영화 '미션 임파서블: 파이널 레코닝' 예고편을 상영한다. 방문객은 화려한 액션과 볼거리를 생생한 화질로 체험할 수 있다. 삼성전자는 전국 삼성 스토어 매장의 삼성 OLED TV와 결합된 무빙스타일과 더 프레임, QLED(퀀텀닷발광다이오드) TV 등에서 영화 '미션... [{'label': 'positive', 'score': 0.9749268293380737}]\n",
      "삼성전자 “OLED TV 화질, 영화로 직접 확인하세요” [{'label': 'neutral', 'score': 0.38189631700515747}]\n",
      "삼성전자, '미션 임파서블' 예고편으로 OLED 우수성 전파 [{'label': 'positive', 'score': 0.9748145937919617}]\n",
      "삼성전자, 전국 삼성스토어 매장서 '미션 임파서블' 예고편 상영 [{'label': 'neutral', 'score': 0.9996287822723389}]\n",
      "삼성전자, 전국 매장서 '미션 임파서블' 예고편 상영 [{'label': 'neutral', 'score': 0.9998385906219482}]\n",
      "삼성전자, '미션 임파서블' 예고편으로 OLED 우수성 알린다 [{'label': 'positive', 'score': 0.9780793190002441}]\n",
      "삼성전자(005930)는 전국 삼성 스토어 매장의 삼성 OLED(유기발광다이오드) TV와 결합된 무빙스타일과 더 프레임, QLED TV 제품 등에서 영화 '미션 임파서블 : 파이널 레코닝' 예고편을 상영한다고 2일 밝혔다. 화려한 액션과 영상미가 있는 영화 예고편을 자사 TV로 상영, 삼성 OLED의 높은 명암비와 생생한... [{'label': 'neutral', 'score': 0.817527174949646}]\n",
      "삼성전자, 영화 '미션 임파서블'로 OLED TV 화질 알린다 [{'label': 'positive', 'score': 0.9822075963020325}]\n",
      "삼성전자, '미션 임파서블' 예고편으로 OLED 성능 알린다 [{'label': 'neutral', 'score': 0.584324836730957}]\n",
      "삼성전자, '미션 임파서블'로 올레드 화질 알린다 [{'label': 'positive', 'score': 0.9927420616149902}]\n",
      "삼성전자, '미션 임파서블: 파이널 레코닝'으로 OLED 화질 알린다 [{'label': 'positive', 'score': 0.5512182712554932}]\n",
      "[게시판] 삼성전자-매일유업, 갤럭시 버즈3 '아몬드브리즈' 케이스 출시 [{'label': 'positive', 'score': 0.9998648166656494}]\n",
      "▲ 삼성전자가 매일유업과 함께 '갤럭시 버즈3 시리즈' 전용 '아몬드브리즈' 케이스 3종을 선보인다고 2일 밝혔다. 삼성닷컴과 온라인 오픈마켓, 전국 삼성스토어, 하이마트, 전자랜드 등에서 구매할 수 있다. '갤럭시 버즈3 프로'와 '갤럭시 버즈3'에 모두 호환되며 가격은 3만 3천 원이다. (서울=연합뉴스) [{'label': 'positive', 'score': 0.9641715884208679}]\n",
      "삼성전자, ‘갤럭시 버즈3 시리즈 아몬드브리즈 케이스’ 출시 [{'label': 'positive', 'score': 0.9998733997344971}]\n",
      "삼성전자, 갤럭시 버즈3 시리즈 전용 '아몬드브리즈' 케이스 출시 [{'label': 'positive', 'score': 0.999876856803894}]\n",
      "삼성전자, 구형 TV 반납하면 30만원 증정 [{'label': 'neutral', 'score': 0.9389711022377014}]\n",
      "삼성전자가 '삼성 OLED' TV의 차별화된 시청 경험을 보다 많은 고객이 누릴 수 있도록 하기 위해 '삼성 OLED로 바꿔보상' 프로모션을 첫 시작한다. 삼성전자는 이달 1일부터 다음 달 30일까지 삼성스토어·삼성닷컴 등 다양한 온·오프라인 채널에서 진행되는 이번 삼성 OLED 단독 프로모션을 통해 'AI TV... [{'label': 'positive', 'score': 0.9430206418037415}]\n",
      "삼성전자, 구형 TV 반납하고 OLED 사면 30만원 보상 [{'label': 'negative', 'score': 0.5175103545188904}]\n",
      "삼성전자, 올레드TV 프로모션…구형 TV 30만원 보상판매 [{'label': 'neutral', 'score': 0.9519829154014587}]\n",
      "삼성전자, 엔비디아향 'HBM3E 12단' 선제 양산 나섰다 [{'label': 'positive', 'score': 0.9998695850372314}]\n",
      "삼성전자가 올 1분기부터 HBM3E 12단 생산량 확대에 본격 나섰다. 그동안 가동률이 저조하던 제조 라인을 '대량 양산' 체제로 전환시킨 것으로 파악됐다. 이르면 상반기 내 엔비디아로부터 공급 승인이 완료되는 시점에 맞춰 선제적으로 HBM3E 12단 제품을 양산, 적기에 공급하려는 전략으로 풀이된다.... [{'label': 'positive', 'score': 0.9998825788497925}]\n",
      "삼성전자, 재고 리스크에도 HBM3E 12단 선제 양산 나선 이유는 [{'label': 'positive', 'score': 0.8758668899536133}]\n",
      "삼성전자가 주요 제품 중심으로 '보급형 모델'을 늘려 시장 영향력을 키운다. 중국 업체들이 가성비(가격 대비 성능) 제품을 쏟아내면서 물량 공세를 펼치자 맞불을 놓는 것이다. 중저가 시장 공략을 통해 점유율 회복을 노린다는 복안이다. 2일 업계에 따르면 삼성전자는 △TV △스마트폰 △웨어러블 기기... [{'label': 'positive', 'score': 0.9995643496513367}]\n",
      "삼성전자, 역대 최대 분기 매출 [{'label': 'positive', 'score': 0.9998458623886108}]\n",
      "삼성전자가 4월 30일 올해 1분기 매출 79조1400억 원, 영업이익 6조7000억 원 확정 실적을 발표했다. 역대 최대 분기 매출이다. 모바일경험(MX) 부문이 갤럭시 S25 시리즈 판매 호조로 4조 원 넘는 영업이익을 올리며 전사 실적을 견인했다. 반면 반도체(DS) 부문은 영업이익 1조1000억 원을 기록해 시장... [{'label': 'positive', 'score': 0.9995341300964355}]\n",
      "삼성전자, 국내투자 줄이나…\"SK하닉보다 공장 건설비 더 낮다\" [{'label': 'negative', 'score': 0.7958081960678101}]\n",
      "올해 삼성전자의 반도체 공장 건설비용이 SK하이닉스보다 더 적을 것으로 보인다. 삼성전자가 SK하이닉스보다 공장 건설비용이 낮아지는 것은 이례적이다. 그만큼 고대역폭메모리(HBM)와 파운드리 사업에서 부진을 겪으며, 공장 및 시설 투자 감소가 나타나는 모습이다. 2일 SEMI(옛... [{'label': 'negative', 'score': 0.9925175905227661}]\n",
      "삼성전자, '삼성 OLED로 바꿔보상' 프로모션 [{'label': 'neutral', 'score': 0.9933371543884277}]\n",
      "삼성전자가 '삼성 OLED' TV의 차별화된 시청 경험을 보다 많은 고객이 누릴 수 있도록 하기 위해 '삼성 OLED로 바꿔보상' 프로모션을 시작한다. 삼성전자는 다음 달 30일까지 55형 이상 2025년형 '삼성 OLED' TV 12개 모델을 구매한 고객이 사용하던 구형 TV를 반납하면 30만원 상당 삼성전자 멤버십 포인트를... [{'label': 'positive', 'score': 0.9562333822250366}]\n",
      "삼성전자, '삼성 OLED로 바꿔보상' 프로모션 [{'label': 'neutral', 'score': 0.9933371543884277}]\n"
     ]
    }
   ],
   "source": [
    "for news in crawl_naver_news(\"삼성전자\", max_results=5):\n",
    "    if '삼성전자' in news.text:\n",
    "        print(news.text,sentiment(news.text))"
   ]
  },
  {
   "cell_type": "code",
   "execution_count": 7,
   "id": "ce327581",
   "metadata": {},
   "outputs": [
    {
     "ename": "NoBrokersAvailable",
     "evalue": "NoBrokersAvailable",
     "output_type": "error",
     "traceback": [
      "\u001b[1;31m---------------------------------------------------------------------------\u001b[0m",
      "\u001b[1;31mNoBrokersAvailable\u001b[0m                        Traceback (most recent call last)",
      "Cell \u001b[1;32mIn[7], line 5\u001b[0m\n\u001b[0;32m      2\u001b[0m \u001b[38;5;28;01mimport\u001b[39;00m \u001b[38;5;21;01mjson\u001b[39;00m\n\u001b[0;32m      3\u001b[0m \u001b[38;5;28;01mimport\u001b[39;00m \u001b[38;5;21;01mtime\u001b[39;00m\n\u001b[1;32m----> 5\u001b[0m producer \u001b[38;5;241m=\u001b[39m KafkaProducer(\n\u001b[0;32m      6\u001b[0m     bootstrap_servers\u001b[38;5;241m=\u001b[39m\u001b[38;5;124m'\u001b[39m\u001b[38;5;124mlocalhost:9092\u001b[39m\u001b[38;5;124m'\u001b[39m,\n\u001b[0;32m      7\u001b[0m     value_serializer\u001b[38;5;241m=\u001b[39m\u001b[38;5;28;01mlambda\u001b[39;00m v: json\u001b[38;5;241m.\u001b[39mdumps(v)\u001b[38;5;241m.\u001b[39mencode(\u001b[38;5;124m'\u001b[39m\u001b[38;5;124mutf-8\u001b[39m\u001b[38;5;124m'\u001b[39m)\n\u001b[0;32m      8\u001b[0m )\n\u001b[0;32m     10\u001b[0m \u001b[38;5;28;01mdef\u001b[39;00m \u001b[38;5;21mstream_news_to_kafka\u001b[39m():\n\u001b[0;32m     11\u001b[0m     \u001b[38;5;28;01mwhile\u001b[39;00m \u001b[38;5;28;01mTrue\u001b[39;00m:\n",
      "File \u001b[1;32mc:\\Users\\humming\\anaconda3\\Lib\\site-packages\\kafka\\producer\\kafka.py:482\u001b[0m, in \u001b[0;36mKafkaProducer.__init__\u001b[1;34m(self, **configs)\u001b[0m\n\u001b[0;32m    479\u001b[0m \u001b[38;5;28;01melse\u001b[39;00m:\n\u001b[0;32m    480\u001b[0m     \u001b[38;5;28mself\u001b[39m\u001b[38;5;241m.\u001b[39m_metrics \u001b[38;5;241m=\u001b[39m \u001b[38;5;28;01mNone\u001b[39;00m\n\u001b[1;32m--> 482\u001b[0m client \u001b[38;5;241m=\u001b[39m \u001b[38;5;28mself\u001b[39m\u001b[38;5;241m.\u001b[39mconfig[\u001b[38;5;124m'\u001b[39m\u001b[38;5;124mkafka_client\u001b[39m\u001b[38;5;124m'\u001b[39m](\n\u001b[0;32m    483\u001b[0m     metrics\u001b[38;5;241m=\u001b[39m\u001b[38;5;28mself\u001b[39m\u001b[38;5;241m.\u001b[39m_metrics, metric_group_prefix\u001b[38;5;241m=\u001b[39m\u001b[38;5;124m'\u001b[39m\u001b[38;5;124mproducer\u001b[39m\u001b[38;5;124m'\u001b[39m,\n\u001b[0;32m    484\u001b[0m     wakeup_timeout_ms\u001b[38;5;241m=\u001b[39m\u001b[38;5;28mself\u001b[39m\u001b[38;5;241m.\u001b[39mconfig[\u001b[38;5;124m'\u001b[39m\u001b[38;5;124mmax_block_ms\u001b[39m\u001b[38;5;124m'\u001b[39m],\n\u001b[0;32m    485\u001b[0m     \u001b[38;5;241m*\u001b[39m\u001b[38;5;241m*\u001b[39m\u001b[38;5;28mself\u001b[39m\u001b[38;5;241m.\u001b[39mconfig)\n\u001b[0;32m    487\u001b[0m \u001b[38;5;66;03m# Get auto-discovered / normalized version from client\u001b[39;00m\n\u001b[0;32m    488\u001b[0m \u001b[38;5;28mself\u001b[39m\u001b[38;5;241m.\u001b[39mconfig[\u001b[38;5;124m'\u001b[39m\u001b[38;5;124mapi_version\u001b[39m\u001b[38;5;124m'\u001b[39m] \u001b[38;5;241m=\u001b[39m client\u001b[38;5;241m.\u001b[39mconfig[\u001b[38;5;124m'\u001b[39m\u001b[38;5;124mapi_version\u001b[39m\u001b[38;5;124m'\u001b[39m]\n",
      "File \u001b[1;32mc:\\Users\\humming\\anaconda3\\Lib\\site-packages\\kafka\\client_async.py:262\u001b[0m, in \u001b[0;36mKafkaClient.__init__\u001b[1;34m(self, **configs)\u001b[0m\n\u001b[0;32m    260\u001b[0m \u001b[38;5;66;03m# Check Broker Version if not set explicitly\u001b[39;00m\n\u001b[0;32m    261\u001b[0m \u001b[38;5;28;01mif\u001b[39;00m \u001b[38;5;28mself\u001b[39m\u001b[38;5;241m.\u001b[39mconfig[\u001b[38;5;124m'\u001b[39m\u001b[38;5;124mapi_version\u001b[39m\u001b[38;5;124m'\u001b[39m] \u001b[38;5;129;01mis\u001b[39;00m \u001b[38;5;28;01mNone\u001b[39;00m:\n\u001b[1;32m--> 262\u001b[0m     \u001b[38;5;28mself\u001b[39m\u001b[38;5;241m.\u001b[39mconfig[\u001b[38;5;124m'\u001b[39m\u001b[38;5;124mapi_version\u001b[39m\u001b[38;5;124m'\u001b[39m] \u001b[38;5;241m=\u001b[39m \u001b[38;5;28mself\u001b[39m\u001b[38;5;241m.\u001b[39mcheck_version()\n\u001b[0;32m    263\u001b[0m \u001b[38;5;28;01melif\u001b[39;00m \u001b[38;5;28mself\u001b[39m\u001b[38;5;241m.\u001b[39mconfig[\u001b[38;5;124m'\u001b[39m\u001b[38;5;124mapi_version\u001b[39m\u001b[38;5;124m'\u001b[39m] \u001b[38;5;129;01min\u001b[39;00m BROKER_API_VERSIONS:\n\u001b[0;32m    264\u001b[0m     \u001b[38;5;28mself\u001b[39m\u001b[38;5;241m.\u001b[39m_api_versions \u001b[38;5;241m=\u001b[39m BROKER_API_VERSIONS[\u001b[38;5;28mself\u001b[39m\u001b[38;5;241m.\u001b[39mconfig[\u001b[38;5;124m'\u001b[39m\u001b[38;5;124mapi_version\u001b[39m\u001b[38;5;124m'\u001b[39m]]\n",
      "File \u001b[1;32mc:\\Users\\humming\\anaconda3\\Lib\\site-packages\\kafka\\client_async.py:1078\u001b[0m, in \u001b[0;36mKafkaClient.check_version\u001b[1;34m(self, node_id, timeout, **kwargs)\u001b[0m\n\u001b[0;32m   1076\u001b[0m     \u001b[38;5;28;01mraise\u001b[39;00m Errors\u001b[38;5;241m.\u001b[39mNodeNotReadyError(node_id)\n\u001b[0;32m   1077\u001b[0m \u001b[38;5;28;01melse\u001b[39;00m:\n\u001b[1;32m-> 1078\u001b[0m     \u001b[38;5;28;01mraise\u001b[39;00m Errors\u001b[38;5;241m.\u001b[39mNoBrokersAvailable()\n",
      "\u001b[1;31mNoBrokersAvailable\u001b[0m: NoBrokersAvailable"
     ]
    }
   ],
   "source": [
    "from kafka import KafkaProducer\n",
    "import json\n",
    "import time\n",
    "\n",
    "producer = KafkaProducer(\n",
    "    bootstrap_servers='localhost:9092',\n",
    "    value_serializer=lambda v: json.dumps(v).encode('utf-8')\n",
    ")\n",
    "\n",
    "def stream_news_to_kafka():\n",
    "    while True:\n",
    "        headlines = get_naver_headlines()\n",
    "        for news in headlines:\n",
    "            print(f\"Send: {news['title']}\")\n",
    "            producer.send('naver-news', value=news)\n",
    "        producer.flush()\n",
    "        time.sleep(10)  # 1분마다 재실행\n",
    "\n",
    "stream_news_to_kafka()"
   ]
  },
  {
   "cell_type": "code",
   "execution_count": null,
   "id": "65de2e26",
   "metadata": {},
   "outputs": [],
   "source": [
    "from kafka import KafkaConsumer\n",
    "import json\n",
    "\n",
    "consumer = KafkaConsumer(\n",
    "    'naver-news',\n",
    "    bootstrap_servers='localhost:9092',\n",
    "    auto_offset_reset='latest',\n",
    "    enable_auto_commit=True,\n",
    "    group_id='naver-group',\n",
    "    value_deserializer=lambda x: json.loads(x.decode('utf-8'))\n",
    ")\n",
    "\n",
    "for message in consumer:\n",
    "    print(f\"[{message.value['title']}] - 링크: {message.value['link']}\")"
   ]
  },
  {
   "cell_type": "code",
   "execution_count": null,
   "id": "49d54ba3",
   "metadata": {},
   "outputs": [],
   "source": [
    "from transformers import BertTokenizer, BertForSequenceClassification, Trainer, TrainingArguments\n",
    "from datasets import load_dataset\n",
    "import torch\n",
    "\n",
    "# 1. Load pretrained tokenizer & model\n",
    "tokenizer = BertTokenizer.from_pretrained('bert-base-multilingual-cased')\n",
    "model = BertForSequenceClassification.from_pretrained('bert-base-multilingual-cased', num_labels=2)\n",
    "\n",
    "# 2. Load your dataset (CSV with 'text' and 'label')\n",
    "dataset = load_dataset('csv', data_files={'train': 'esg_train.csv', 'test': 'esg_test.csv'})\n",
    "\n",
    "# 3. Tokenize\n",
    "def tokenize(batch):\n",
    "    return tokenizer(batch['text'], padding=True, truncation=True, max_length=512)\n",
    "\n",
    "tokenized_dataset = dataset.map(tokenize, batched=True)\n",
    "\n",
    "# 4. Training\n",
    "training_args = TrainingArguments(\n",
    "    output_dir='./results',\n",
    "    evaluation_strategy=\"epoch\",\n",
    "    per_device_train_batch_size=8,\n",
    "    per_device_eval_batch_size=8,\n",
    "    num_train_epochs=3,\n",
    "    logging_dir='./logs',\n",
    ")\n",
    "\n",
    "trainer = Trainer(\n",
    "    model=model,\n",
    "    args=training_args,\n",
    "    train_dataset=tokenized_dataset['train'],\n",
    "    eval_dataset=tokenized_dataset['test'],\n",
    ")\n",
    "\n",
    "trainer.train()\n"
   ]
  },
  {
   "cell_type": "code",
   "execution_count": 1,
   "id": "2f6564fa",
   "metadata": {},
   "outputs": [
    {
     "ename": "SessionNotCreatedException",
     "evalue": "Message: session not created: probably user data directory is already in use, please specify a unique value for --user-data-dir argument, or don't use --user-data-dir\nStacktrace:\n\tGetHandleVerifier [0x00007FF7EB25FCA5+25029]\n\t(No symbol) [0x00007FF7EB1B4CB0]\n\tMicrosoft::Applications::Events::EventProperty::to_string [0x00007FF7EB4BADAA+1947706]\n\t(No symbol) [0x00007FF7EAFB280D]\n\t(No symbol) [0x00007FF7EAFB03B3]\n\t(No symbol) [0x00007FF7EAFF52CD]\n\t(No symbol) [0x00007FF7EAFF43CB]\n\t(No symbol) [0x00007FF7EAFE8DF3]\n\t(No symbol) [0x00007FF7EAFBD6A6]\n\t(No symbol) [0x00007FF7EAFBCBB3]\n\t(No symbol) [0x00007FF7EAFBD4D3]\n\t(No symbol) [0x00007FF7EB0C5D0D]\n\t(No symbol) [0x00007FF7EB0D38AF]\n\t(No symbol) [0x00007FF7EB0CC29F]\n\tMicrosoft::Applications::Events::EventProperty::to_string [0x00007FF7EB324D5A+284650]\n\t(No symbol) [0x00007FF7EB1C2641]\n\t(No symbol) [0x00007FF7EB1BB0E4]\n\t(No symbol) [0x00007FF7EB1BB233]\n\t(No symbol) [0x00007FF7EB1ACE76]\n\tBaseThreadInitThunk [0x00007FFF1D8CE8D7+23]\n\tRtlUserThreadStart [0x00007FFF1FB514FC+44]\n",
     "output_type": "error",
     "traceback": [
      "\u001b[1;31m---------------------------------------------------------------------------\u001b[0m",
      "\u001b[1;31mSessionNotCreatedException\u001b[0m                Traceback (most recent call last)",
      "Cell \u001b[1;32mIn[1], line 26\u001b[0m\n\u001b[0;32m     24\u001b[0m     \u001b[38;5;28;01mreturn\u001b[39;00m articles\n\u001b[0;32m     25\u001b[0m \u001b[38;5;28;01mif\u001b[39;00m \u001b[38;5;18m__name__\u001b[39m \u001b[38;5;241m==\u001b[39m \u001b[38;5;124m'\u001b[39m\u001b[38;5;124m__main__\u001b[39m\u001b[38;5;124m'\u001b[39m:\n\u001b[1;32m---> 26\u001b[0m     test \u001b[38;5;241m=\u001b[39m main(\u001b[38;5;124m\"\u001b[39m\u001b[38;5;124m삼성전자\u001b[39m\u001b[38;5;124m\"\u001b[39m)\n\u001b[0;32m     27\u001b[0m     \u001b[38;5;28mprint\u001b[39m(test)\n",
      "Cell \u001b[1;32mIn[1], line 20\u001b[0m, in \u001b[0;36mmain\u001b[1;34m(keyword)\u001b[0m\n\u001b[0;32m     18\u001b[0m edge_options\u001b[38;5;241m.\u001b[39madd_experimental_option(\u001b[38;5;124m\"\u001b[39m\u001b[38;5;124mdetach\u001b[39m\u001b[38;5;124m\"\u001b[39m, \u001b[38;5;28;01mTrue\u001b[39;00m)  \n\u001b[0;32m     19\u001b[0m service \u001b[38;5;241m=\u001b[39m Service(EdgeChromiumDriverManager()\u001b[38;5;241m.\u001b[39minstall())\n\u001b[1;32m---> 20\u001b[0m driver \u001b[38;5;241m=\u001b[39m webdriver\u001b[38;5;241m.\u001b[39mEdge(service\u001b[38;5;241m=\u001b[39mservice, options\u001b[38;5;241m=\u001b[39medge_options)\n\u001b[0;32m     21\u001b[0m driver\u001b[38;5;241m.\u001b[39mget(url)\n\u001b[0;32m     22\u001b[0m driver\u001b[38;5;241m.\u001b[39mimplicitly_wait(\u001b[38;5;241m0\u001b[39m)  \u001b[38;5;66;03m# 페이지 로딩 대기\u001b[39;00m\n",
      "File \u001b[1;32mc:\\Users\\humming\\anaconda3\\Lib\\site-packages\\selenium\\webdriver\\edge\\webdriver.py:45\u001b[0m, in \u001b[0;36mWebDriver.__init__\u001b[1;34m(self, options, service, keep_alive)\u001b[0m\n\u001b[0;32m     42\u001b[0m service \u001b[38;5;241m=\u001b[39m service \u001b[38;5;28;01mif\u001b[39;00m service \u001b[38;5;28;01melse\u001b[39;00m Service()\n\u001b[0;32m     43\u001b[0m options \u001b[38;5;241m=\u001b[39m options \u001b[38;5;28;01mif\u001b[39;00m options \u001b[38;5;28;01melse\u001b[39;00m Options()\n\u001b[1;32m---> 45\u001b[0m \u001b[38;5;28msuper\u001b[39m()\u001b[38;5;241m.\u001b[39m\u001b[38;5;21m__init__\u001b[39m(\n\u001b[0;32m     46\u001b[0m     browser_name\u001b[38;5;241m=\u001b[39mDesiredCapabilities\u001b[38;5;241m.\u001b[39mEDGE[\u001b[38;5;124m\"\u001b[39m\u001b[38;5;124mbrowserName\u001b[39m\u001b[38;5;124m\"\u001b[39m],\n\u001b[0;32m     47\u001b[0m     vendor_prefix\u001b[38;5;241m=\u001b[39m\u001b[38;5;124m\"\u001b[39m\u001b[38;5;124mms\u001b[39m\u001b[38;5;124m\"\u001b[39m,\n\u001b[0;32m     48\u001b[0m     options\u001b[38;5;241m=\u001b[39moptions,\n\u001b[0;32m     49\u001b[0m     service\u001b[38;5;241m=\u001b[39mservice,\n\u001b[0;32m     50\u001b[0m     keep_alive\u001b[38;5;241m=\u001b[39mkeep_alive,\n\u001b[0;32m     51\u001b[0m )\n",
      "File \u001b[1;32mc:\\Users\\humming\\anaconda3\\Lib\\site-packages\\selenium\\webdriver\\chromium\\webdriver.py:67\u001b[0m, in \u001b[0;36mChromiumDriver.__init__\u001b[1;34m(self, browser_name, vendor_prefix, options, service, keep_alive)\u001b[0m\n\u001b[0;32m     58\u001b[0m executor \u001b[38;5;241m=\u001b[39m ChromiumRemoteConnection(\n\u001b[0;32m     59\u001b[0m     remote_server_addr\u001b[38;5;241m=\u001b[39m\u001b[38;5;28mself\u001b[39m\u001b[38;5;241m.\u001b[39mservice\u001b[38;5;241m.\u001b[39mservice_url,\n\u001b[0;32m     60\u001b[0m     browser_name\u001b[38;5;241m=\u001b[39mbrowser_name,\n\u001b[1;32m   (...)\u001b[0m\n\u001b[0;32m     63\u001b[0m     ignore_proxy\u001b[38;5;241m=\u001b[39moptions\u001b[38;5;241m.\u001b[39m_ignore_local_proxy,\n\u001b[0;32m     64\u001b[0m )\n\u001b[0;32m     66\u001b[0m \u001b[38;5;28;01mtry\u001b[39;00m:\n\u001b[1;32m---> 67\u001b[0m     \u001b[38;5;28msuper\u001b[39m()\u001b[38;5;241m.\u001b[39m\u001b[38;5;21m__init__\u001b[39m(command_executor\u001b[38;5;241m=\u001b[39mexecutor, options\u001b[38;5;241m=\u001b[39moptions)\n\u001b[0;32m     68\u001b[0m \u001b[38;5;28;01mexcept\u001b[39;00m \u001b[38;5;167;01mException\u001b[39;00m:\n\u001b[0;32m     69\u001b[0m     \u001b[38;5;28mself\u001b[39m\u001b[38;5;241m.\u001b[39mquit()\n",
      "File \u001b[1;32mc:\\Users\\humming\\anaconda3\\Lib\\site-packages\\selenium\\webdriver\\remote\\webdriver.py:260\u001b[0m, in \u001b[0;36mWebDriver.__init__\u001b[1;34m(self, command_executor, keep_alive, file_detector, options, locator_converter, web_element_cls, client_config)\u001b[0m\n\u001b[0;32m    258\u001b[0m \u001b[38;5;28mself\u001b[39m\u001b[38;5;241m.\u001b[39m_authenticator_id \u001b[38;5;241m=\u001b[39m \u001b[38;5;28;01mNone\u001b[39;00m\n\u001b[0;32m    259\u001b[0m \u001b[38;5;28mself\u001b[39m\u001b[38;5;241m.\u001b[39mstart_client()\n\u001b[1;32m--> 260\u001b[0m \u001b[38;5;28mself\u001b[39m\u001b[38;5;241m.\u001b[39mstart_session(capabilities)\n\u001b[0;32m    261\u001b[0m \u001b[38;5;28mself\u001b[39m\u001b[38;5;241m.\u001b[39m_fedcm \u001b[38;5;241m=\u001b[39m FedCM(\u001b[38;5;28mself\u001b[39m)\n\u001b[0;32m    263\u001b[0m \u001b[38;5;28mself\u001b[39m\u001b[38;5;241m.\u001b[39m_websocket_connection \u001b[38;5;241m=\u001b[39m \u001b[38;5;28;01mNone\u001b[39;00m\n",
      "File \u001b[1;32mc:\\Users\\humming\\anaconda3\\Lib\\site-packages\\selenium\\webdriver\\remote\\webdriver.py:357\u001b[0m, in \u001b[0;36mWebDriver.start_session\u001b[1;34m(self, capabilities)\u001b[0m\n\u001b[0;32m    355\u001b[0m caps \u001b[38;5;241m=\u001b[39m _create_caps(capabilities)\n\u001b[0;32m    356\u001b[0m \u001b[38;5;28;01mtry\u001b[39;00m:\n\u001b[1;32m--> 357\u001b[0m     response \u001b[38;5;241m=\u001b[39m \u001b[38;5;28mself\u001b[39m\u001b[38;5;241m.\u001b[39mexecute(Command\u001b[38;5;241m.\u001b[39mNEW_SESSION, caps)[\u001b[38;5;124m\"\u001b[39m\u001b[38;5;124mvalue\u001b[39m\u001b[38;5;124m\"\u001b[39m]\n\u001b[0;32m    358\u001b[0m     \u001b[38;5;28mself\u001b[39m\u001b[38;5;241m.\u001b[39msession_id \u001b[38;5;241m=\u001b[39m response\u001b[38;5;241m.\u001b[39mget(\u001b[38;5;124m\"\u001b[39m\u001b[38;5;124msessionId\u001b[39m\u001b[38;5;124m\"\u001b[39m)\n\u001b[0;32m    359\u001b[0m     \u001b[38;5;28mself\u001b[39m\u001b[38;5;241m.\u001b[39mcaps \u001b[38;5;241m=\u001b[39m response\u001b[38;5;241m.\u001b[39mget(\u001b[38;5;124m\"\u001b[39m\u001b[38;5;124mcapabilities\u001b[39m\u001b[38;5;124m\"\u001b[39m)\n",
      "File \u001b[1;32mc:\\Users\\humming\\anaconda3\\Lib\\site-packages\\selenium\\webdriver\\remote\\webdriver.py:448\u001b[0m, in \u001b[0;36mWebDriver.execute\u001b[1;34m(self, driver_command, params)\u001b[0m\n\u001b[0;32m    446\u001b[0m response \u001b[38;5;241m=\u001b[39m \u001b[38;5;28mself\u001b[39m\u001b[38;5;241m.\u001b[39mcommand_executor\u001b[38;5;241m.\u001b[39mexecute(driver_command, params)\n\u001b[0;32m    447\u001b[0m \u001b[38;5;28;01mif\u001b[39;00m response:\n\u001b[1;32m--> 448\u001b[0m     \u001b[38;5;28mself\u001b[39m\u001b[38;5;241m.\u001b[39merror_handler\u001b[38;5;241m.\u001b[39mcheck_response(response)\n\u001b[0;32m    449\u001b[0m     response[\u001b[38;5;124m\"\u001b[39m\u001b[38;5;124mvalue\u001b[39m\u001b[38;5;124m\"\u001b[39m] \u001b[38;5;241m=\u001b[39m \u001b[38;5;28mself\u001b[39m\u001b[38;5;241m.\u001b[39m_unwrap_value(response\u001b[38;5;241m.\u001b[39mget(\u001b[38;5;124m\"\u001b[39m\u001b[38;5;124mvalue\u001b[39m\u001b[38;5;124m\"\u001b[39m, \u001b[38;5;28;01mNone\u001b[39;00m))\n\u001b[0;32m    450\u001b[0m     \u001b[38;5;28;01mreturn\u001b[39;00m response\n",
      "File \u001b[1;32mc:\\Users\\humming\\anaconda3\\Lib\\site-packages\\selenium\\webdriver\\remote\\errorhandler.py:232\u001b[0m, in \u001b[0;36mErrorHandler.check_response\u001b[1;34m(self, response)\u001b[0m\n\u001b[0;32m    230\u001b[0m         alert_text \u001b[38;5;241m=\u001b[39m value[\u001b[38;5;124m\"\u001b[39m\u001b[38;5;124malert\u001b[39m\u001b[38;5;124m\"\u001b[39m]\u001b[38;5;241m.\u001b[39mget(\u001b[38;5;124m\"\u001b[39m\u001b[38;5;124mtext\u001b[39m\u001b[38;5;124m\"\u001b[39m)\n\u001b[0;32m    231\u001b[0m     \u001b[38;5;28;01mraise\u001b[39;00m exception_class(message, screen, stacktrace, alert_text)  \u001b[38;5;66;03m# type: ignore[call-arg]  # mypy is not smart enough here\u001b[39;00m\n\u001b[1;32m--> 232\u001b[0m \u001b[38;5;28;01mraise\u001b[39;00m exception_class(message, screen, stacktrace)\n",
      "\u001b[1;31mSessionNotCreatedException\u001b[0m: Message: session not created: probably user data directory is already in use, please specify a unique value for --user-data-dir argument, or don't use --user-data-dir\nStacktrace:\n\tGetHandleVerifier [0x00007FF7EB25FCA5+25029]\n\t(No symbol) [0x00007FF7EB1B4CB0]\n\tMicrosoft::Applications::Events::EventProperty::to_string [0x00007FF7EB4BADAA+1947706]\n\t(No symbol) [0x00007FF7EAFB280D]\n\t(No symbol) [0x00007FF7EAFB03B3]\n\t(No symbol) [0x00007FF7EAFF52CD]\n\t(No symbol) [0x00007FF7EAFF43CB]\n\t(No symbol) [0x00007FF7EAFE8DF3]\n\t(No symbol) [0x00007FF7EAFBD6A6]\n\t(No symbol) [0x00007FF7EAFBCBB3]\n\t(No symbol) [0x00007FF7EAFBD4D3]\n\t(No symbol) [0x00007FF7EB0C5D0D]\n\t(No symbol) [0x00007FF7EB0D38AF]\n\t(No symbol) [0x00007FF7EB0CC29F]\n\tMicrosoft::Applications::Events::EventProperty::to_string [0x00007FF7EB324D5A+284650]\n\t(No symbol) [0x00007FF7EB1C2641]\n\t(No symbol) [0x00007FF7EB1BB0E4]\n\t(No symbol) [0x00007FF7EB1BB233]\n\t(No symbol) [0x00007FF7EB1ACE76]\n\tBaseThreadInitThunk [0x00007FFF1D8CE8D7+23]\n\tRtlUserThreadStart [0x00007FFF1FB514FC+44]\n"
     ]
    }
   ],
   "source": [
    "from selenium import webdriver\n",
    "from selenium.webdriver.edge.service import Service\n",
    "from selenium.webdriver.edge.options import Options\n",
    "from webdriver_manager.microsoft import EdgeChromiumDriverManager\n",
    "from selenium.webdriver.common.by import By\n",
    "from selenium.webdriver.common.keys import Keys\n",
    "import urllib.parse\n",
    "\n",
    "\n",
    "\n",
    "def main(keyword):\n",
    "    url = f\"https://search.naver.com/search.naver?where=news&query={urllib.parse.quote(keyword)}\"\n",
    "    edge_options = Options()\n",
    "    edge_options.add_experimental_option(\"excludeSwitches\", [\"enable-automation\"])  # 자동화 감지 방지\n",
    "    edge_options.add_argument(\"user-agent=Mozilla/5.0 (Windows NT 10.0; Win64; x64) AppleWebKit/537.36 (KHTML, like Gecko) Chrome/122.0.0.0 Safari/537.36\")\n",
    "    edge_options.add_experimental_option(\"useAutomationExtension\", False)\n",
    "    edge_options.add_argument(\"--disable-blink-features=AutomationControlled\")\n",
    "    edge_options.add_experimental_option(\"detach\", True)  \n",
    "    service = Service(EdgeChromiumDriverManager().install())\n",
    "    driver = webdriver.Edge(service=service, options=edge_options)\n",
    "    driver.get(url)\n",
    "    driver.implicitly_wait(0)  # 페이지 로딩 대기\n",
    "    articles = driver.find_elements(By.TAG_NAME, value='a')\n",
    "    return articles\n",
    "if __name__ == '__main__':\n",
    "    test = main(\"삼성전자\")\n",
    "    print(test)\n"
   ]
  },
  {
   "cell_type": "code",
   "execution_count": 80,
   "id": "3d2590fd",
   "metadata": {},
   "outputs": [
    {
     "name": "stdout",
     "output_type": "stream",
     "text": [
      "0\n",
      "<selenium.webdriver.remote.webelement.WebElement (session=\"9e2a7d56f3952e183648be74c2d7f04a\", element=\"f.F4351B0A5BD05851E5A07F64770F9CFA.d.0E0F2C733DF6A7B425A6097C2A28868C.e.691\")>\n",
      "1\n",
      "<selenium.webdriver.remote.webelement.WebElement (session=\"9e2a7d56f3952e183648be74c2d7f04a\", element=\"f.F4351B0A5BD05851E5A07F64770F9CFA.d.0E0F2C733DF6A7B425A6097C2A28868C.e.735\")>\n",
      "2\n",
      "<selenium.webdriver.remote.webelement.WebElement (session=\"9e2a7d56f3952e183648be74c2d7f04a\", element=\"f.F4351B0A5BD05851E5A07F64770F9CFA.d.0E0F2C733DF6A7B425A6097C2A28868C.e.759\")>\n",
      "3\n",
      "<selenium.webdriver.remote.webelement.WebElement (session=\"9e2a7d56f3952e183648be74c2d7f04a\", element=\"f.F4351B0A5BD05851E5A07F64770F9CFA.d.0E0F2C733DF6A7B425A6097C2A28868C.e.803\")>\n",
      "4\n",
      "<selenium.webdriver.remote.webelement.WebElement (session=\"9e2a7d56f3952e183648be74c2d7f04a\", element=\"f.F4351B0A5BD05851E5A07F64770F9CFA.d.0E0F2C733DF6A7B425A6097C2A28868C.e.827\")>\n",
      "5\n",
      "<selenium.webdriver.remote.webelement.WebElement (session=\"9e2a7d56f3952e183648be74c2d7f04a\", element=\"f.F4351B0A5BD05851E5A07F64770F9CFA.d.0E0F2C733DF6A7B425A6097C2A28868C.e.886\")>\n",
      "6\n",
      "<selenium.webdriver.remote.webelement.WebElement (session=\"9e2a7d56f3952e183648be74c2d7f04a\", element=\"f.F4351B0A5BD05851E5A07F64770F9CFA.d.0E0F2C733DF6A7B425A6097C2A28868C.e.904\")>\n",
      "7\n",
      "<selenium.webdriver.remote.webelement.WebElement (session=\"9e2a7d56f3952e183648be74c2d7f04a\", element=\"f.F4351B0A5BD05851E5A07F64770F9CFA.d.0E0F2C733DF6A7B425A6097C2A28868C.e.922\")>\n",
      "8\n",
      "<selenium.webdriver.remote.webelement.WebElement (session=\"9e2a7d56f3952e183648be74c2d7f04a\", element=\"f.F4351B0A5BD05851E5A07F64770F9CFA.d.0E0F2C733DF6A7B425A6097C2A28868C.e.950\")>\n",
      "9\n",
      "<selenium.webdriver.remote.webelement.WebElement (session=\"9e2a7d56f3952e183648be74c2d7f04a\", element=\"f.F4351B0A5BD05851E5A07F64770F9CFA.d.0E0F2C733DF6A7B425A6097C2A28868C.e.993\")>\n",
      "10\n",
      "<selenium.webdriver.remote.webelement.WebElement (session=\"9e2a7d56f3952e183648be74c2d7f04a\", element=\"f.F4351B0A5BD05851E5A07F64770F9CFA.d.0E0F2C733DF6A7B425A6097C2A28868C.e.1011\")>\n",
      "11\n",
      "<selenium.webdriver.remote.webelement.WebElement (session=\"9e2a7d56f3952e183648be74c2d7f04a\", element=\"f.F4351B0A5BD05851E5A07F64770F9CFA.d.0E0F2C733DF6A7B425A6097C2A28868C.e.1029\")>\n",
      "12\n",
      "<selenium.webdriver.remote.webelement.WebElement (session=\"9e2a7d56f3952e183648be74c2d7f04a\", element=\"f.F4351B0A5BD05851E5A07F64770F9CFA.d.0E0F2C733DF6A7B425A6097C2A28868C.e.1047\")>\n",
      "13\n",
      "<selenium.webdriver.remote.webelement.WebElement (session=\"9e2a7d56f3952e183648be74c2d7f04a\", element=\"f.F4351B0A5BD05851E5A07F64770F9CFA.d.0E0F2C733DF6A7B425A6097C2A28868C.e.1075\")>\n",
      "14\n",
      "<selenium.webdriver.remote.webelement.WebElement (session=\"9e2a7d56f3952e183648be74c2d7f04a\", element=\"f.F4351B0A5BD05851E5A07F64770F9CFA.d.0E0F2C733DF6A7B425A6097C2A28868C.e.1119\")>\n",
      "15\n",
      "<selenium.webdriver.remote.webelement.WebElement (session=\"9e2a7d56f3952e183648be74c2d7f04a\", element=\"f.F4351B0A5BD05851E5A07F64770F9CFA.d.0E0F2C733DF6A7B425A6097C2A28868C.e.1137\")>\n",
      "16\n",
      "<selenium.webdriver.remote.webelement.WebElement (session=\"9e2a7d56f3952e183648be74c2d7f04a\", element=\"f.F4351B0A5BD05851E5A07F64770F9CFA.d.0E0F2C733DF6A7B425A6097C2A28868C.e.1155\")>\n",
      "17\n",
      "<selenium.webdriver.remote.webelement.WebElement (session=\"9e2a7d56f3952e183648be74c2d7f04a\", element=\"f.F4351B0A5BD05851E5A07F64770F9CFA.d.0E0F2C733DF6A7B425A6097C2A28868C.e.1182\")>\n",
      "18\n",
      "<selenium.webdriver.remote.webelement.WebElement (session=\"9e2a7d56f3952e183648be74c2d7f04a\", element=\"f.F4351B0A5BD05851E5A07F64770F9CFA.d.0E0F2C733DF6A7B425A6097C2A28868C.e.1226\")>\n",
      "19\n",
      "<selenium.webdriver.remote.webelement.WebElement (session=\"9e2a7d56f3952e183648be74c2d7f04a\", element=\"f.F4351B0A5BD05851E5A07F64770F9CFA.d.0E0F2C733DF6A7B425A6097C2A28868C.e.1250\")>\n"
     ]
    }
   ],
   "source": [
    "from selenium import webdriver\n",
    "from selenium.webdriver.edge.service import Service\n",
    "from selenium.webdriver.edge.options import Options\n",
    "from selenium.webdriver.common.by import By\n",
    "from selenium.webdriver.support.ui import WebDriverWait\n",
    "from selenium.webdriver.support import expected_conditions as EC\n",
    "from webdriver_manager.microsoft import EdgeChromiumDriverManager\n",
    "from urllib.parse import urlencode, quote_plus, unquote\n",
    "from bs4 import BeautifulSoup\n",
    "import pandas as pd \n",
    "import re\n",
    "\n",
    "def clean_news_text(text):\n",
    "    # 1. (사진=..., 제공) 등 괄호 제거 (출처성 내용만 삭제)\n",
    "    text = re.sub(r'[\\(\\[][^()\\[\\]]*?\\b[\\w가-힣]+=+[\\w가-힣]+\\b[^()\\[\\]]*?[\\)\\]]', '', text)\n",
    "\n",
    "    # 2. '사진=... 기자' 형태 문장 단독 제거 (기자와 =도 제거)\n",
    "    text = re.sub(r'(사진|)\\s*=\\s*[^ \\n]+ 기자\\s*=?', '', text)\n",
    "\n",
    "    # 3. 기자 이름 단독 제거 (기자와 =도 제거)\n",
    "    text = re.sub(r'\\b\\w{2,4}\\s?기자\\s*=?', '', text)\n",
    "\n",
    "    # 4. 날짜 (예: 2025.05.13)\n",
    "    text = re.sub(r'\\d{4}\\.\\d{2}\\.\\d{2}', '', text)\n",
    "\n",
    "    # 5. 이메일\n",
    "    text = re.sub(r'\\S+@\\S+', '', text)\n",
    "    \n",
    "    # 6. 특수문자 제거\n",
    "    text = re.sub(r'[▲★◆●■]', '', text)\n",
    "\n",
    "    # 7. 공백 및 개행 정리\n",
    "    text = re.sub(r'\\n{2,}', '\\n\\n', text)\n",
    "    text = re.sub(r'[ \\t]+', ' ', text)\n",
    "    text = re.sub(r'@', '', text)\n",
    "    text = re.sub(r'※.*', '', text)\n",
    "    text = text.strip()\n",
    "\n",
    "    return text\n",
    "\n",
    "def main(keyword, date_date=None):\n",
    "    base_url = f\"https://search.naver.com/search.naver?where=news&sm=tab_pge&\"\n",
    "    if date_date is None:\n",
    "        queryParams = urlencode({\n",
    "            quote_plus('query'): keyword,\n",
    "        }, encoding='utf-8')           \n",
    "    else:\n",
    "        queryParams = urlencode({\n",
    "            quote_plus('query'): keyword,\n",
    "            quote_plus('ds'): unquote(date_date[:10]),\n",
    "            quote_plus('de'): unquote(date_date[10:]),\n",
    "        \n",
    "        }, encoding='utf-8')\n",
    "    url = base_url + queryParams\n",
    "    edge_options = Options()\n",
    "    edge_options.add_argument(\"--disable-blink-features=AutomationControlled\")\n",
    "    edge_options.add_experimental_option(\"excludeSwitches\", [\"enable-automation\"])\n",
    "    edge_options.add_experimental_option(\"useAutomationExtension\", False)\n",
    "    edge_options.add_argument(\"user-agent=Mozilla/5.0 (Windows NT 10.0; Win64; x64)\")\n",
    "    edge_options.add_experimental_option(\"detach\", True)\n",
    "\n",
    "    service = Service(EdgeChromiumDriverManager().install())\n",
    "    driver = webdriver.Edge(service=service, options=edge_options)\n",
    "    news_urls = []\n",
    "    news_titles = []\n",
    "    news_dates = []\n",
    "    news_contents = []\n",
    "    # 자동화 탐지 우회 (옵션)\n",
    "\n",
    "    driver.implicitly_wait(0)  # 페이지 로딩 대기\n",
    "    driver.get(url)\n",
    "    ems = driver.find_elements(\n",
    "    By.XPATH, \"//a[span[text()='네이버뉴스']]\"\n",
    ")\n",
    "    i=0\n",
    "    j=0\n",
    "    if len(ems) == 0 : \n",
    "        print(\"뉴스가 없습니다.\")\n",
    "        \n",
    "    else:\n",
    "        for em in ems:\n",
    "            print(i)\n",
    "            print(em)\n",
    "            em.click()                        \n",
    "            #새창으로 드라이버 전환\n",
    "            driver.switch_to.window(driver.window_handles[1])\n",
    "\n",
    "            current_url = driver.current_url\n",
    "            # 본문 링크 수집    \n",
    "\n",
    "            # 뉴스 타입 분류\n",
    "            news_type = current_url.split('//')[1].split('/')[2] # 뉴스 타입 분류\n",
    "# 본문 기사 제목 수집\n",
    "        \n",
    "            \n",
    "            if news_type == 'article':\n",
    "                news_titles.append(driver.title)# 본문 기사 제목 수집\n",
    "                news_urls.append(current_url)\n",
    "                news_dates.append(driver.find_element(By.XPATH, ' //*[@id=\"ct\"]/div[1]/div[3]/div[1]/div[1]/span').text)\n",
    "                html = driver.find_element(By.XPATH, '//*[@id=\"dic_area\"]').get_attribute('innerHTML')\n",
    "\n",
    "# BeautifulSoup으로 파싱\n",
    "                soup = BeautifulSoup(html, 'html.parser')\n",
    "\n",
    "                for em_tag in soup.find_all('em'):\n",
    "                    em_tag.decompose()\n",
    "\n",
    "                # 텍스트 추출 (br 기준으로 줄 나누기)\n",
    "                br_tag = soup.find('br')\n",
    "                if br_tag:\n",
    "                    next_div = br_tag.find_next('div')  # br 태그 다음 div 찾기\n",
    "                    if next_div:\n",
    "                        next_div.decompose()  # 해당 div 태그 제거\n",
    "\n",
    "                lines = [line.strip() for line in str(soup).split('<br>')]\n",
    "                lines = [BeautifulSoup(line, 'html.parser').get_text(strip=True) for line in lines if line.strip()]\n",
    "\n",
    "                # 리스트를 합쳐서 전체 뉴스 텍스트로 저장\n",
    "                cleaned_text = '\\n'.join(lines).replace('\\'', ' ')\n",
    "\n",
    "                news_contents.append(clean_news_text(cleaned_text)) # 본문 기사 내용 수집\n",
    "                driver.close()\n",
    "                driver.switch_to.window(driver.window_handles[0])\n",
    "                \n",
    "\n",
    "                    # 본문 기사 게시 일자 및 시간 수집    \n",
    "            if len(news_contents)==20:\n",
    "                break\n",
    "            i+=1\n",
    "    df = pd.DataFrame({\n",
    "        'date': news_dates,\n",
    "        'title': news_titles,\n",
    "        'url': news_urls,\n",
    "        'content': news_contents\n",
    "    })\n",
    "    return df  \n",
    "\n",
    "\n",
    "if __name__ == '__main__':\n",
    "   test =  main(\"삼성전자\")\n"
   ]
  },
  {
   "cell_type": "code",
   "execution_count": 44,
   "id": "70f5dc01",
   "metadata": {},
   "outputs": [
    {
     "name": "stdout",
     "output_type": "stream",
     "text": [
      "'삼성전자, 갤럭시S25 엣지 공개\\n\\'두께 5.8㎜\\' 슬림형 디자인 강조\\n1030세대 공략 성공 여부 \\'주목\\'\\n스마트폰 수요 부진 돌파 관건\\n갤럭시S25 엣지(왼쪽)와 갤럭시S25 울트라. \\n\"지난번 갤럭시S25 시리즈 출시 때는 색상별로 쏠림 현상이 있어서 배송 지연이 생겼습니다. 이번엔 나름 준비한다고 했는데 많이 사주십시오.\"\\n\\n임성택 삼성전자 한국총괄 부사장은 13일 삼성 강남에서 열린 갤럭시S25 엣지 공개 행사에 나와 이 같이 말했다. 삼성전자는 이날 역대 갤럭시S2 시리즈 중 가장 얇은 갤럭시S25 엣지를 공개했다.\\n\\n갤럭시S25 엣지는 두께가 5.8㎜에 불과해 스마트폰 \\'두께 전쟁\\' 선봉에 설 제품으로 꼽힌다. 7.2㎜ 두께인 갤럭시S25 기본형보다 1.4㎜ 더 얇다. 외형은 과거 출시된 갤럭시S 시리즈보다 화면이 넓은데 기기 두께를 얇게 누른 대신 면적이 확대됐다.\\n\\n갤럭시S25 엣지는 젊은 세대 사용자 확대와 스마트폰 출하량 확대 등의 과제를 짊어진 기대작이다. 한국갤럽이 지난해 7월 발표한 조사를 보면 18~29세 스마트폰 사용자 10명 중 6명은 애플의 아이폰을 사용하고 있는 것으로 나타났다. 특히 같은 연령대 여성은 10명 중 8명꼴로 아이폰을 쓴다고 답했다.\\n\\n이 때문에 특히 1030세대 사용자층을 주요 타깃으로 잡았다. 임 부사장은 \"갤럭시S25 시리즈도 최단기 100만대 판매를 넘은 제품이었는데 (갤럭시S25 엣지 역시) 굉장히 높은 판매량을 생각하고 있다\"며 \"1030세대에서 많이 선호한다는 (내부) 조사가 나와 있어서 많이 팔릴 것으로 확신하고 있다\"고 말했다.\\n\\n갤럭시S25 엣지. \\n1030세대를 유인할 요인으로는 디자인을 꼽았다. 갤럭시S25 엣지는 그간 \\'아재폰\\'이라 불렸던 갤럭시S 시리즈의 다소 투박한 이미지 대신 기기 두께를 줄여 세련된 모습을 강조했다. 무게도 163g에 불과해 실제로 휴대가 간편하다는 인상을 남긴다.\\n\\n구독 서비스도 1030세대를 끌어들이는 발판이 되고 있다. 임 부사장은 \"AI(인공지능) 구독 프로그램이 1030에게 많은 영향을 미치고 있고 판매에도 크게 도움이 되고 있다\"며 \"갤럭시S25 엣지도 (구독 판매에) 많은 기대를 하고 있다\"고 했다.\\n\\n\\'뉴 갤럭시 AI 구독클럽\\'을 통해 갤럭시S25 엣지 자급제 모델을 구입할 경우 월 구독료는 5900원에 불과하다. 가입기간은 12개월이나 24개월 중 선택할 수 있다.\\n\\n문성훈 삼성전자 모바일경험(MX)사업부 스마트폰개발1팀 부사장은 \"엣지는 단순히 얇은 폰이 아니라 모든 곡선, 윤곽, 부품 하나하나 정밀한 엔지니어링의 혁신을 담았다\"며 \"수년간 다수의 프로토 타입을 만들고 여러 부품을 조합해 치열하게 하드웨어 기술을 혁신하면서 선보일 수 있게 됐다. 슬림 스마트폰 시대를 이끌어 나갈 것이고 갤럭시S25 엣지는 그 시작\"이라고 말했다.\\n\\n삼성전자가 13일 오전 \\'삼성 강남\\'에서 갤럭시S25 엣지의 두께를 비교할 수 있도록 여러 사물과 함께 제품을 전시하고 있다. \\n폼팩터를 다양화하는 시도는 젊은 세대 고객층 유입에 긍정적으로 작용할 수 있다. 삼성전자는 플립 형태의 스마트폰을 내놓은 이후 10~20대 여성들의 호평을 끌어냈다. 갤럭시S25 엣지는 두께가 얇아 주머니나 가방에 넣기 편하고 \\'셀카\\'를 찍을 때 편리할 것으로 기대되는 만큼 수요가 있을 것으로 예상된다.\\n\\n갤럭시S25 엣지는 미국 관세 정책에 따른 스마트폰 시장의 불확실성을 돌파해야 할 역할도 맡는다. 삼성전자는 지난달 30일 1분기 실적발표 콘퍼런스콜 당시 올 2분기 스마트폰 수요가 감소할 것으로 내다봤다. 미국 관세 정책이 불확실성을 키워 연간 스마트폰 수요도 지난해보다 하향 조정될 수 있다고 전망했다.\\n\\n갤럭시S25 엣지는 30여개국에 우선 선보인다. 국내에선 이달 14일부터 20일까지 사전 판매 후 오는 23일 공식 출시한다. 사전 판매 기간에 구매할 경우 2배 많은 저장용량을 갖춘 기기를 제공하는 \\'더블 스토리지\\' 혜택을 제공한다.\\n\\n삼성전자는 갤럭시S25 엣지 판매를 확대해 스마트폰 출하량과 평균판매단가(ASP)를 끌어올릴 계획이다. 이날 갤럭시S25 엣지 공개 행사에서도 \"(엣지는) 매출과 영업이익을 더 끌어올릴 수 있는 제품\"이라며 \"갤럭시S25 전체 시리즈가 MX사업부 매출과 이익을 견인할 것으로 기대하고 있다\"고 설명했다.'\n"
     ]
    }
   ],
   "source": [
    "print(repr(test['content'][0]))  "
   ]
  },
  {
   "cell_type": "code",
   "execution_count": 81,
   "id": "d94e375b",
   "metadata": {},
   "outputs": [
    {
     "name": "stdout",
     "output_type": "stream",
     "text": [
      "삼성전자, 갤럭시S25 엣지 공개 두께 5.8㎜ 슬림형 디자인 강조1030세대 공략 성공 여부 주목 스마트폰 수요 부진 돌파 관건\"지난번 갤럭시S25 시리즈 출시 때는 색상별로 쏠림 현상이 있어서 배송 지연이 생겼습니다. 이번엔 나름 준비한다고 했는데 많이 사주십시오.\"임성택 삼성전자 한국총괄 부사장은 13일 삼성 강남에서 열린 갤럭시S25 엣지 공개 행사에 나와 이 같이 말했다. 삼성전자는 이날 역대 갤럭시S2 시리즈 중 가장 얇은 갤럭시S25 엣지를 공개했다.갤럭시S25 엣지는 두께가 5.8㎜에 불과해 스마트폰 두께 전쟁 선봉에 설 제품으로 꼽힌다. 7.2㎜ 두께인 갤럭시S25 기본형보다 1.4㎜ 더 얇다. 외형은 과거 출시된 갤럭시S 시리즈보다 화면이 넓은데 기기 두께를 얇게 누른 대신 면적이 확대됐다.갤럭시S25 엣지는 젊은 세대 사용자 확대와 스마트폰 출하량 확대 등의 과제를 짊어진 기대작이다. 한국갤럽이 지난해 7월 발표한 조사를 보면 18~29세 스마트폰 사용자 10명 중 6명은 애플의 아이폰을 사용하고 있는 것으로 나타났다. 특히 같은 연령대 여성은 10명 중 8명꼴로 아이폰을 쓴다고 답했다.이 때문에 특히 1030세대 사용자층을 주요 타깃으로 잡았다. 임 부사장은 \"갤럭시S25 시리즈도 최단기 100만대 판매를 넘은 제품이었는데 (갤럭시S25 엣지 역시) 굉장히 높은 판매량을 생각하고 있다\"며 \"1030세대에서 많이 선호한다는 (내부) 조사가 나와 있어서 많이 팔릴 것으로 확신하고 있다\"고 말했다.1030세대를 유인할 요인으로는 디자인을 꼽았다. 갤럭시S25 엣지는 그간 아재폰 이라 불렸던 갤럭시S 시리즈의 다소 투박한 이미지 대신 기기 두께를 줄여 세련된 모습을 강조했다. 무게도 163g에 불과해 실제로 휴대가 간편하다는 인상을 남긴다.구독 서비스도 1030세대를 끌어들이는 발판이 되고 있다. 임 부사장은 \"AI(인공지능) 구독 프로그램이 1030에게 많은 영향을 미치고 있고 판매에도 크게 도움이 되고 있다\"며 \"갤럭시S25 엣지도 (구독 판매에) 많은 기대를 하고 있다\"고 했다. 뉴 갤럭시AI구독클럽 을 통해 갤럭시S25 엣지 자급제 모델을 구입할 경우 월 구독료는 5900원에 불과하다. 가입기간은 12개월이나 24개월 중 선택할 수 있다.문성훈 삼성전자 모바일경험(MX)사업부 스마트폰개발1팀 부사장은 \"엣지는 단순히 얇은 폰이 아니라 모든 곡선, 윤곽, 부품 하나하나 정밀한 엔지니어링의 혁신을 담았다\"며 \"수년간 다수의 프로토 타입을 만들고 여러 부품을 조합해 치열하게 하드웨어 기술을 혁신하면서 선보일 수 있게 됐다. 슬림 스마트폰 시대를 이끌어 나갈 것이고 갤럭시S25 엣지는 그 시작\"이라고 말했다.폼팩터를 다양화하는 시도는 젊은 세대 고객층 유입에 긍정적으로 작용할 수 있다. 삼성전자는 플립 형태의 스마트폰을 내놓은 이후 10~20대 여성들의 호평을 끌어냈다. 갤럭시S25 엣지는 두께가 얇아 주머니나 가방에 넣기 편하고 셀카 를 찍을 때 편리할 것으로 기대되는 만큼 수요가 있을 것으로 예상된다.갤럭시S25 엣지는 미국 관세 정책에 따른 스마트폰 시장의 불확실성을 돌파해야 할 역할도 맡는다. 삼성전자는 지난달 30일 1분기 실적발표 콘퍼런스콜 당시 올 2분기 스마트폰 수요가 감소할 것으로 내다봤다. 미국 관세 정책이 불확실성을 키워 연간 스마트폰 수요도 지난해보다 하향 조정될 수 있다고 전망했다.갤럭시S25 엣지는 30여개국에 우선 선보인다. 국내에선 이달 14일부터 20일까지 사전 판매 후 오는 23일 공식 출시한다. 사전 판매 기간에 구매할 경우 2배 많은 저장용량을 갖춘 기기를 제공하는 더블 스토리지 혜택을 제공한다.삼성전자는 갤럭시S25 엣지 판매를 확대해 스마트폰 출하량과 평균판매단가(ASP)를 끌어올릴 계획이다. 이날 갤럭시S25 엣지 공개 행사에서도 \"(엣지는) 매출과 영업이익을 더 끌어올릴 수 있는 제품\"이라며 \"갤럭시S25 전체 시리즈가MX사업부 매출과 이익을 견인할 것으로 기대하고 있다\"고 설명했다.\n",
      "13일 오전 서울 삼성 강남에서 열린 갤럭시S25 엣지 미디어행사에서 제품이 공개되고 있다.갤럭시 S25 엣지의 두께는 5.8㎜(기본모델 7.2㎜) 수준으로 역대 갤럭시 시리즈 중 가장 얇다 2025.5.13/뉴스1\n",
      "올해 말까지 뉴욕·런던 등서 옥외광고이지용 기자 = 삼성전자가 글로벌 주요 랜드마크에서 삼성 비전AI 옥외광고를 선보인다.삼성전자는 미국 뉴욕 타임스 스퀘어, 영국 런던 피카딜리 광장, 중국 상해 홍이 인터내셔널 플라자 등에서 삼성 비전AI옥외광고를 올해 말까지 진행한다고 12일 밝혔다.삼성 비전AI는 사용자의 옆에서 일상을 쉽고 편리하게 만드는 역할을 한다는 삼성 인공지능(AI)TV기술의 지향점이다.광고 영상에서는 삼성TV의AI기능인 클릭 투 서치 유니버설 제스쳐 실시간 번역 AI업스케일링 등을 소개한다. 삼성전자는 소비자들에게 삼성AITV가 전해줄 수 있는 각종 시청 경험 내용을 담았다.삼성전자는 글로벌 주요 거점에 삼성 비전AI옥외광고를 집행해 소비자 접점을 확대하고 있다.\n",
      "삼성전자가 올해 말까지 세계 주요 랜드마크에서 비전AI 옥외광고를 선보입니다.삼성전자는 뉴욕 타임스스퀘어와 런던 피카딜리 서커스 등 주요 랜드마크 전광판 광고를 통해 소비자와의 접점을 확대할 계획이라고 밝혔습니다.또 이번에 선보인 옥외광고가 사용자의 일상을 쉽고 편리하게 도와주는 삼성AITV의 기능을 소개하고 있다고 설명했습니다.\n",
      "역대 갤럭시 S시리즈 중 가장 슬림, 두께 5.8mm스마트폰 디자인의 한계 깼다폴더블 제외 현존 가장 얇은 스마트폰하반기 애플 아이폰17 에어와 경쟁할 듯[이데일리 ] 삼성전자가 두께 5.8mm의 스마트폰 ‘갤럭시 S25 엣지’를 공개하고, 초슬림폰 시장을 개척하겠다고 밝혔다. 갤럭시 S25 엣지는 얇은 두께 뿐 아니라 고성능 카메라와 강력한 인공지능(AI) 기능, 디자인 완성도까지 3박자를 갖춘 삼성전자의 야심작이라는 평가다.임성택 삼성전자 한국총괄 부사장이 13일 서울 삼성 강남에서 초슬림형 스마트폰인 삼성전자 갤럭시 S25 엣지를 선보이고 있다. 갤럭시 S25 엣지는 정교한 설계와 경량화를 통해 갤럭시 S 시리즈 중 가장 얇은 5.8mm두께의 슬림 디자인, 163g 무게를 구현했다. S25 일반 모델은 7.2mm,162g이다.[이데일리 ]삼성전자는 12일 서울 서초구 ‘삼성 강남’에서 열린 언팩 행사에서 ‘갤럭시 S25 엣지’를 공개하고 14일부터 사전예약에 돌입한다.노태문 삼성전자DX부문장 직무대행(사장)은 영상을 통해 “초슬림 기술의 한계를 넘어 사용자 경험을 혁신하는 제품”이라며 “디자인과 엔지니어링 장인 정신이 만나 완성된 업계의 새로운 카테고리”라고 강조했다.삼성전자는 5mm대 엣지를 구현하기 위해 수년간 프로토타입을 만들며 연구했고, 배터리·카메라 배치·방열 등 모든 부문에서 제로베이스부터 설계했다. 얇은 스마트폰의 단점으로 지적되는 발열을 제어하고 배터리 효율을 유지하기 위해 S25 일반 모델 대비 10% 커진 베이퍼 챔퍼(방열판)를 탑재했고, 열이 효율적으로 전달되도록 ‘홀 구조’를 적용했다. 이에 배터리가 S25 일반형(4000mAh)보다 작은 3900mAh에도 하루종일 쓰기에 충분하다고 설명했다.갤럭시 S25 엣지는 폴더블폰을 제외하면 현존 가장 얇은 스마트폰이다. 지난 2월 중국 업체 테크노가 모바일월드콩그레스(MWC) 2025에서 5.75mm콘셉트폰을 공개했지만 공식 출시하지 않았다. 애플은 올 하반기 5.5mm의 아이폰17에어를 출시하고 슬림폰 시장에 뛰어들 것으로 보인다.임성택 삼성전자 한국총괄은 “갤럭시 S25를 출시할때 역대 최고 성능 임에도 전모델 가격을 동결했다”며 관세 영향에도 불구하고 삼성전자가 가격 인상을 거의 하지 않았다는 점을 에둘러 말했다.반면 애플은 중국산 제품에 대한 미국의 관세 정책을 대비해 올 가을 출시할 아이폰 라인업의 가격 인상을 검토 중으로 알려졌다.갤럭시S25 엣지 출고가는 256기가바이트(GB) 모델 기준 149만6000원, 512GB는 163만9000원이다. ‘갤럭시S25’ 시리즈 가운데 울트라 다음으로 비싸며, 플러스 모델보다 15만원 정도 비싸다.\n",
      "13일 서울 삼성 강남에서 초슬림형 스마트폰인 삼성전자 갤럭시 S25 엣지가 공개되고 있다.\n",
      "13일 서울 삼성 강남에서 초슬림형 스마트폰인 삼성전자 갤럭시 S25 엣지가 공개되고 있다.\n",
      "13일 서울 삼성 강남에서 초슬림형 스마트폰인 삼성전자 갤럭시 S25 엣지가 공개되고 있다.\n",
      "삼성전자가 온라인 갤럭시 언팩을 열고 갤럭시 S 시리즈 가운데 가장 얇은 갤럭시 S25 엣지 를 공개했습니다.삼성전자는 온라인에서 갤럭시 S25 엣지: 비욘드 슬림 행사를 진행하고 초슬림 스마트폰 갤럭시 S25 엣지를 공개했다고 오늘(13일) 밝혔습니다.이번 제품은 갤럭시 S 시리즈 가운데 가장 슬림한 디자인과 강력한 성능, 견고한 내구성을 모두 갖춘 제품이라고 삼성전자는 설명했습니다.노태문 삼성전자DX부문장 직무대행 사장은 \"갤럭시 S25 엣지는 초슬림 기술의 한계를 넘어 사용자 경험을 혁신하는 제품\"이라며 \"디자인과 엔지니어링 장인 정신의 완벽한 균형을 이뤄낸 업계의 새로운 카테고리\"라고 강조했습니다.신제품은 5.8mm의 두께로 무게는 163g입니다.갤럭시 S25 엣지는 견고한 내구성도 갖췄다고 삼성전자는 설명했습니다.전면 디스플레이에는 모바일용 글라스 세라믹 신소재인 코닝 고릴라 글라스 세라믹 2가 적용돼 손상 저항·균열 방어가 강화됐습니다.또 2억 화소의 초고해상도 광각 카메라가 탑재돼 이용자는 갤럭시 S25 울트라급의 촬영을 경험할 수 있습니다.아울러 갤럭시 S25 시리즈의 모든 갤럭시 인공지능(AI) 기반 편집 기능이 동일하게 지원됩니다.이에 이용자는 오디오 지우개, 스케치 변환, 생성형 편집 등 다양한 편집 도구를 이용할 수 있습니다.삼성전자는 이번 신제품에 갤럭시 S25 시리즈와 동일하게 갤럭시용 스냅드래곤 8 엘리트가 탑재됐다고 강조했습니다.해당 칩셋은 온디바이스AI처리 성능을 강화하며 빠르고 안정적인 성능을 제공합니다.갤럭시 S25 엣지에는 개인화된 맞춤형 정보 브리핑을 제공하는 나우 브리프와 사용자의 실시간 활동을 잠금 화면에서 바로 확인할 수 있는 나우 바 등AI기능도 탑재됐습니다.이번 신작은 티타늄 실버, 티타늄 제트블랙, 티타늄 아이스블루 3가지 색상으로 출시되며 256GB,512GB스토리지를 탑재한 모델이 각각 149만 6천원, 163만 9천원으로 판매됩니다.삼성전자는 내일(14일)부터 20일까지 사전 판매를 진행하고 오는 23일부터 국내 공식 출시합니다.삼성전자는 사전 판매기간 동안 갤럭시 S25 엣지 256GB모델을 사전 구매한 고객에게 512GB모델로 저장 용량을 2배 업그레이드해 주는 더블 스토리지 혜택을 제공한다고 밝혔습니다.갤럭시 S25 엣지는 뉴 갤럭시AI구독클럽에 가입할 수 있습니다.구독클럽의 경우 갤럭시 S25 엣지 자급제 모델을 구입하면 기기 반납 시 최대 50% 잔존가 보상, 삼성케어플러스 스마트폰 파손플러스 제공 등의 혜택이 제공됩니다.가입 기간은 12개월, 24개월 중 선택할 수 있으며 구독료는 월 5천900원입니다.삼성전자는 갤럭시 링 투톤 티타늄 블랙 도 출시해 내일부터 삼성 강남에서 한정 수량 판매를 진행한다고 덧붙였습니다.\n",
      "갤S25 엣지, 초슬림∙초경량 디자인…5.8㎜·163g초슬림 디자인에도 견고한 내구성·고성능 갖춰256GB149만6000원, 512GB163만9000원 판매색상은 티타늄 실버·제트블랙·아이스블루 3가지 삼성전자가 초슬림 스마트폰 갤럭시 S25 엣지 를 공개했다. 역대 가장 얇은 5.8㎜ 두께의 슬림 디자인이 가장 큰 특징이다. 14일부터 사전 판매를 시작하며 공식 출시일은 23일이다.삼성전자는 13일 오전 9시 삼성닷컴 등 온라인에서 갤럭시 S25 엣지 : 비욘드 슬림 행사를 통해 새 모델을 선보였다.갤럭시 S25 라인업을 완성하는 갤럭시 S25 엣지는 갤럭시S 시리즈 중 가장 얇으면서도 견고한 내구성을 갖춘 모델이다. 정교한 설계와 경량화로 5.8㎜ 두께, 163g 무게를 구현했다. 두께는 갤럭시 S25 시리즈 중에 가장 얇고 무게는 S25 수준이다.얇아진 만큼 내구성에도 신경을 썼다. 전면 디스플레이에 모바일용 글라스 세라믹 신소재인 코닝 고릴라 글라스 세라믹2를 적용해 손상 저항과 균열 방어를 강화했다는 게 회사 설명이다. 이와 함께 티타늄 프레임과IP68 등급의 방수방진으로 일상 속 다양한 환경에서도 안정적인 사용 환경을 뒷받침한다.갤럭시 S25 엣지는 티타늄 실버, 티타늄 제트블랙, 티타늄 아이스블루 등 3가지 색상으로 출시된다. 256GB,512GB스토리지를 탑재한 모델이 각 149만6000원, 163만9000원이다.갤럭시 S25 엣지는 갤럭시용 스냅드래곤8을 탑재했다. 갤럭시 S25 시리즈와 동일하다. 삼성전자가 퀄컴과 협력해 개발한 칩센으로 온디바이스 인공지능(AI) 처리 성능을 강화하며, 빠르고 안정적인 성능을 제공한다.방열 시스템도 강화했다. 효율적인 열 분산을 위해 갤럭시 S24 대비 더 얇고 넓어진 구조로 재설계된 베이퍼 챔버를 내장해 장시간 사용에도 발열을 제어한다.갤럭시 S25 엣지는 2억 화소의 초고해상도 광각 카메라를 탑재해 S25 울트라급 촬영 경험을 제공한다. 1200만화소의 초광각 렌즈로 넓은 프레임을 한 번에 촬영할 수 있고, 접사 촬영을 위한 자동 초점(AF)도 추가돼 창의적인 시점의 촬영이 가능하다.나이토그래피는 갤럭시 S25, S25플러스 대비 약 40% 커진 픽셀 사이즈로 더 많은 빛을 받아들여 더욱 선명한 촬영 결과물을 만들어낼 수 있다. 차세대 프로비주얼 엔진 을 탑재해 선명도와 디테일을 향상시키고, 인물 사진에서는 보다 자연스러운 피부톤을 연출한다.또 갤럭시 S25 시리즈의 모든 갤럭시AI기반 편집 기능을 동일하게 지원한다. 오디오 지우개, 스케치 변환, 생성형 편집 등 다양한 편집 도구를 지원해 완성도 높은 콘텐츠 제작이 가능하다.실시간 비주얼AI등 향상된AI경험도 제공한다. 개인화된 맞춤형 정보 브리핑을 제공하는 나우 브리프 와 사용자의 실시간 활동을 잠금 화면에서 바로 확인할 수 있는 나우 바 는 다양한 서드파티 앱과 연동해 출퇴근, 식사 등 다양한 일상에서 사용할 수 있다.아울러 강화된 글쓰기 어시스트 기능은 텍스트 요약후 번역, 표 생성 후 이미지 저장 등이 추가돼 더욱 쉽고 빠른 글쓰기를 돕는다.구글과의 협업으로 탑재된 실시간 비주얼AI 기능도 만나볼 수 있다. 자연어 기반 음성과 텍스트로 작업을 수행하던 기능에서 한 단계 더 나아가 화면 공유 기능을 추가했다. 이를 통해 사용자는 주변 환경을 카메라로 비추며 자연스럽게 음성으로 친구와 대화하듯 실시간으로 답변을 받을 수 있다.예를 들어 옷장을 보여주며 제미나이 라이브(GeminiLive)에서 스타일 추천을 받거나, 음악 페스티벌 라인업 이미지를 보여주며 나의 음악 취향에 맞는 아티스트를 추천받아 효율적인 관람 일정이 가능하다.갤럭시 S25는 온디바이스AI로 처리된 데이터는 비밀번호와 인증 번호 등 민감한 개인정보를 하드웨어 보안 침에 별도로 보관하는 녹스 볼트(KnoxVault) 를 통해 안전하게 보호된다.삼성전자는 14일부터 20일까지 사전 판매를 실시한다. 국내 공식 출시일은 23일이다. 사전 판매기간 동안 갤럭시 S25 엣지 256GB모델을 사전 구매한 고객은 512GB모델로 저장 용량을 2배 업그레이드해주는 더블 스토리지 혜택을 받을 수 있다.갤럭시 S25 엣지는 뉴(New) 갤럭시AI구독클럽 으로도 만나볼 수 있다. 이를 통해 갤럭시 S25 엣지 자급제 모델을 구입하면 기기 반납시 최대 50% 잔존가 보상, 삼성케어플러스 스마트폰 파손플러스 제공, 모바일 액세서리 할인 등이 주어진다. 가입 기간은 12개월, 24개월 중 선택할 수 있으며 구독료는 월 5900원이다.노태문 삼성전자DX부문장 직무대행 사장은 \"갤럭시 S25 엣지는 초슬림 기술의 한계를 넘어 사용자 경험을 혁신하는 제품\"이라며 \"디자인과 엔지니어링 장인 정신의 완벽한 균형을 이뤄낸 업계의 새로운 카테고리\"라고 강조했다．\n",
      "디자인·성능·내구성 삼박자…\"엣지는 기술의 총합\"베이퍼 챔버·AI·카메라 혁신…울트라급 기술 밀도애플 아이폰17 에어 예고…정면 승부 불가피삼성전자가 역대 가장 얇은 스마트폰 갤럭시 S25 엣지 를 공개하며 초슬림폰 경쟁의 서막을 열었다. 두께 5.8mm,무게 163g의 갤럭시 S25 엣지는 디자인과 성능, 내구성까지 세 토끼를 모두 잡은 동시에 초슬림폰 카테고리의 기준점을 다시 썼다는 평가다.초슬림 5.8mm에 플래그십DNA갤럭시 S25 엣지의 가장 큰 특징은 단연 5.8mm 초박형 두께다. S 시리즈 중 처음으로 5mm대 두께를 구현했다. 기존 갤럭시 S25(7.2mm), S25 울트라(8.2mm)보다 각각 1.4mm,2.4mm얇은 수치다.화면은 S25플러스와 동일한 6.66인치지만, 무게를 163g으로 30g 가까이 줄였다. 삼성이 이처럼 극단적으로 얇고 가벼운 스마트폰을 선보인 것은 이번이 처음이다.프레임은 울트라 모델과 동일한 티타늄 소재를 채택해 내구성을 끌어올렸고, 디스플레이 전면에는 삼성 최초로 고릴라 글래스 세라믹2 를 적용해 충격 강도를 기존 대비 40% 이상 개선했다.초슬림 디자인의 숙명인 발열과 배터리 이슈는 정공법으로 돌파했다. 3900mAh배터리를 탑재해 전작 S25(4000mAh) 대비 소폭 줄었으나, 베이퍼 챔버 면적을 S25 대비 10% 늘려 발열 제어 성능을 보완했다.문성훈 삼성전자MX사업부 부사장은 \"슬림을 구현하기 위해 모든 부품을 제로 베이스에서 재설계했고, 수년간 프로토타입 테스트를 거쳤다\"며 \"얇고 아름다운 디자인을 넘어 견고함과 성능까지 갖춘 스마트폰\"이라고 강조했다.이어 그는 \"전면 프레임 구조 일부를 제거하고, 열 확산 신소재와 맞춤형TIM(열전달 인터페이스 재료)을 적용해 성능과 냉각의 균형을 잡았다\"고 부연했다.카메라도 백미다. 후면에 2억 화소 초고해상 카메라를 탑재했다. 이는 S25 울트라와 동일한 사양이다. 1200만 화소 초광각 렌즈로 넓은 프레임을 한 번에 촬영할 수 있고, 자동 초점(AF) 기능이 추가돼 접사 촬영까지 가능하다. 영상·사진 편집 기능도 강화됐다. △생성형 편집 △로그 비디오 △가상 조리개 조절 등 전문가용 기능이 대거 포함됐다.문 부사장은 \"얇은 디자인을 위해 카메라 높이도 10% 이상 줄였다\"며 \"홀 구조 설계, 맞춤형 방열 소재, 구조 강화 등 모든 기술 혁신이 집약된 결과물\"이라고 설명했다.AI기능도 진화했다. 구글 제미나이 와 협업한 실시간 비주얼AI 기능은 카메라로 사물을 비추며 음성으로 대화를 나눌 수 있는 경험을 제공한다. 강력한 온디바이스 연산과 클라우드AI가 결합된 하이브리드 모델로, 사용자는 \"이 옷 어때?\"라고 묻는 것만으로 날씨·장소에 맞는 스타일링 제안을 받을 수 있다. 엣지  주력 라인으로…슬림폰 대중화 시동통상 업계에선 디자인에만 몰두한 나머지 성능을 희생한 제품을 두고 디자인이 설계를 눌렀다 는 냉소가 따라붙는다. 기능보다 형식을 앞세운 외형주의에 대한 비판이다. 그러나 S25 엣지는 이런 우려를 단호히 지우며 디자인과 기술의 공존 가능성을 증명했다.노태문 삼성전자DX부문장 직무대행도 \"S25 엣지는 초슬림 기술의 한계를 넘은 제품\"이라고 자평했다.삼성은 엣지를 전략적 리미티드 모델 이 아닌 정식 라인업 내 메인스트림 제품 으로 포지셔닝했다. 차세대 폼팩터로서의 본격 시장 진입 선언인 셈이다.삼성이 엣지를 주력으로 내세운 배경은 명확하다. 슬림이라는 미학적 가치를 기술적 완성도와 접목해야만 새로운 시장의 주도권을 선점할 수 있다는 전략적 판단에서다. 최근 초슬림폰은  디자인 소비를 넘어 성능·내구성·AI경험까지 아우르는 새로운 카테고리로 부상하고 있다. 실적 기여 측면에서도 매출과 수익 모두를 견인할 잠재력이 크다는 평가다.강민석 삼성전자MX사업부 상무는 \"엣지는 한정판이 아닌 슬림폰 경쟁에서 주도적 역할을 맡을 핵심 제품으로 개발됐다\"며 \"비욘드 슬림이라는 키워드 아래 완성도 높은 슬림 기술과 차별화된 사용자 경험을 구현하는 데 집중했다\"고 말했다.이어 그는 \"S25 엣지가 단순 영업이익률 하락을 보완하기 위한 제품은 아니지만, 결과적으로 매출과 이익 모두에서 긍정적 기여가 기대된다\"고 덧붙였다.임성택 삼성전자 한국총괄 부사장은 \"특히 1030세대에서 큰 관심을 보이고 있고 전작 대비 판매량이 크게 늘 것\"이라고 확신했다.한편 초슬림폰 경쟁은 삼성과 애플의 양강 대결로 번질 전망이다. 애플은 오는 9월 아이폰 17 에어  출시를 예고하고 있다. 두께는 5.5mm로 S25 엣지보다 0.3mm더 얇을 것으로 알려진다. 아이폰 역사상 가장 얇은 모델이다.업계 관계자는 \"삼성전자가 얇은 두께에 고사양AP·울트라급 카메라·AI기능까지 담아낸 만큼 애플도 초슬림에 프리미엄을 더해 승부수를 띄울 것\"이라며 \"초슬림폰 시장은 단순 유행이 아닌 하드웨어 기술력의 새로운 격전지\"라고 말했다.\n",
      "갤S25 엣지, 초슬림∙초경량 디자인…5.8㎜·163g초슬림 디자인에도 견고한 내구성·고성능 갖춰오는 14일부터 사전 판매 시작…23일 공식 출시256GB149만6000원, 512GB163만9000원 판매\"1030세대 선호 조사…전작 대비 많이 팔릴 것\" 삼성전자가 초슬림 스마트폰 갤럭시 S25 엣지 를 공개했다. 역대 가장 얇은 5.8㎜ 두께의 슬림 디자인이지만 기존 S25 시리즈 기능을 모두 담아낸 게 가장 큰 특징이다. 14일부터 사전 판매를 시작하며 공식 출시일은 23일이다.삼성전자는 13일 오전 9시 삼성닷컴 등 온라인에서 갤럭시 S25 엣지 : 비욘드 슬림 행사를 통해 새 모델을 선보였다. 삼성전자는 갤럭시 S25 패밀리로 엣지를 추가했다.갤럭시 S25 라인업을 완성하는 갤럭시 S25 엣지는 갤럭시S 시리즈 중 가장 얇으면서도 견고한 내구성을 갖춘 모델이다. 두께는 5.8㎜, 무게는 163g에 불과하다. 역대 갤럭시S25 시리즈 중 가장 얇다.얇아진 만큼 내구성에 신경을 썼다. 전면 디스플레이에 모바일용 글라스 세라믹 신소재인 코닝 고릴라 글라스 세라믹2를 적용해 손상 저항과 균열 방어를 강화했다는 게 회사 설명이다. 이와 함께 티타늄 프레임과IP68 등급의 방수방진 기능이 적용됐다.갤럭시 S25 엣지는 티타늄 실버, 티타늄 제트블랙, 티타늄 아이스블루 등 3가지 색상으로 출시된다. 256GB,512GB스토리지를 탑재한 모델이 각 149만6000원, 163만9000원이다.갤럭시 S25 엣지는 갤럭시용 스냅드래곤8을 탑재했다. 갤럭시 S25 시리즈와 동일하다. 삼성전자가 퀄컴과 협력해 개발한 칩셋으로 온디바이스 인공지능(AI) 처리 성능을 높이며, 빠르고 안정적인 성능을 제공한다.방열 시스템도 강화했다. 효율적인 열 분산을 위해 갤럭시 S24 대비 더 얇고 넓어진 구조로 재설계된 베이퍼 챔버를 내장해 장시간 사용에도 발열을 제어한다.문성훈 삼성전자MX사업부 부사장은 이날 미디어 브리핑에서 \"앞으로도 슬림 스마트폰 시대를 이끌어나갈 것이고 엣지는 그 시작\"이라며 \"얇은 폰이라 성능이 잘 나오지 않을까 고민을 많이 하는데 폰이 얇으면 열 확산이 잘 안 돼서 이걸 어떻게 잘 하느냐가 성능을 확보하는 가장 중요한 노력이었고, 수년간 노력해 이뤄내 발열 걱정 없이 쓸 수 있을 것\"이라고 소개했다.갤럭시 S25 엣지는 2억 화소의 초고해상도 광각 카메라를 탑재했다. S25 울트라와 동일하다. 또 1200만 화소의 초광각 렌즈로 넓은 프레임을 한 번에 촬영할 수 있고, 접사 촬영을 위한 자동 초점(AF) 기능도 추가됐다.나이토그래피는 갤럭시 S25, S25플러스 대비 약 40% 커진 픽셀 사이즈로 더 많은 빛을 받아들여 더욱 선명한 촬영 결과물을 만들어낼 수 있다. 차세대 프로비주얼 엔진 을 탑재해 선명도와 디테일을 향상시키고, 인물 사진에서는 보다 자연스러운 피부톤을 연출한다.또 갤럭시 S25 시리즈의 모든 갤럭시AI기반 편집 기능을 동일하게 지원한다. 오디오 지우개, 스케치 변환, 생성형 편집 등 다양한 편집 도구를 지원해 완성도 높은 콘텐츠 제작이 가능하다.개인화된 맞춤형 정보 브리핑을 제공하는 나우 브리프 와 사용자의 실시간 활동을 잠금 화면에서 바로 확인할 수 있는 나우 바 는 다양한 서드파티 앱과 연동해 출퇴근, 식사 등 다양한 일상에서 사용할 수 있다.아울러 강화된 글쓰기 어시스트 기능은 텍스트 요약후 번역, 표 생성 후 이미지 저장 등이 추가돼 더욱 쉽고 빠른 글쓰기를 돕는다.구글과의 협업으로 실시간 비주얼AI 기능도 탑재돼 있다. 자연어 기반 음성과 텍스트로 작업을 수행하던 기능에서 한 단계 더 나아가 화면 공유 기능을 추가했다. 이를 통해 사용자는 주변 환경을 카메라로 비추며 자연스럽게 음성으로 친구와 대화하듯 실시간으로 답변을 받을 수 있다.예를 들어 옷장을 보여주며 제미나이 라이브(GeminiLive)에서 스타일 추천을 받거나, 음악 페스티벌 라인업 이미지를 보여주며 나의 음악 취향에 맞는 아티스트를 추천받아 효율적인 관람 일정이 가능하다.갤럭시 S25는 온디바이스AI로 처리된 데이터는 비밀번호와 인증 번호 등 민감한 개인정보를 하드웨어 보안 칩에 별도로 보관하는 녹스 볼트(KnoxVault) 를 통해 안전하게 보호된다.삼성전자는 14일부터 20일까지 사전 판매를 실시한다. 국내 공식 출시일은 23일이다. 사전 판매기간 동안 갤럭시 S25 엣지 256GB모델을 사전 구매한 고객은 512GB모델로 저장 용량을 2배 업그레이드해주는 더블 스토리지 혜택을 받을 수 있다.갤럭시 S25 엣지는 뉴(New) 갤럭시AI구독클럽 으로도 만나볼 수 있다. 이를 통해 갤럭시 S25 엣지 자급제 모델을 구입하면 기기 반납시 최대 50% 잔존가 보상, 삼성케어플러스 스마트폰 파손플러스 제공, 모바일 액세서리 할인 등이 주어진다. 가입 기간은 12개월, 24개월 중 선택할 수 있으며 구독료는 월 5900원이다.임성택 삼성전자 한국총괄 부사장은 \"판매 목표를 숫자로 말하긴 그렇지만 하드웨어나 소프트웨어적으로 워낙 혁신적인 제품\"이라며 \"저희가 조사한 바로는 1030세대에서 많이 선호한다는 조사가 나와 있어서 전작 대비 굉장히 많이 팔릴 것으로 확신한다\"고 언급했다.슬림 디자인이 젊은 세대를 사로잡기 위한 전략인지 확인하는 질문에는 \"관련해서 겸허하게 공부하고 연구하는 상황\"이라며 \"한 번 써보면 알겠지만 갤럭시AI구독클럽도 1030세대에 많은 영향이 있고 판매에 크게 도움이 되고 있다. 이번 엣지에서도 많은 기대를 하고 있다\"고 설명했다.최근SK텔레콤 신규 영업 중단으로 갤럭시 S25 엣지 판매에 영향을 줄 것으로 예상되는 상황에 대해서는 구체적인 언급을 피했다. 임 부사장은 \"나중에 또 (말할) 기회가 있을 것\"이라고 말을 아꼈다.노태문 삼성전자DX부문장 직무대행 사장은 \"갤럭시 S25 엣지는 초슬림 기술의 한계를 넘어 사용자 경험을 혁신하는 제품\"이라며 \"디자인과 엔지니어링 장인 정신의 완벽한 균형을 이뤄낸 업계의 새로운 카테고리\"라고 강조했다．\n",
      "\"1030 세대에서 슬림폰에 대한 선호도가 클 것으로 예상됩니다. 갤럭시 S25 엣지 출시를 계기로 올해 S25시리즈가 전작보다 많이 팔릴 것으로 자신합니다. \"임성택 삼성전자 한국총괄(부사장)은 13일 서울 서초동에서 연 신제품 갤럭시S25 엣지 공개 행사에서 갤럭시 S25 엣지의 성공을 확신했다. 임 부사장은 \"갤럭시 S25 엣지는 단순히 기술 과시형 제품이 아니라, 소비자 편의성을 위해 얇고 가볍게 만들겠다는 고민을 많이한 제품\"이라고 강조했다.삼성전자가 이날 공개한 갤럭시 S25 엣지는 역대 갤럭시 시리즈 중 가장 얇은 제품이다. 두께5.8㎜, 무게 163g으로, 같은 6.66인치 화면을 가진 갤럭시S25 플러스(7.3㎜·190g)보다 얇고 가볍다. 오는 14일부터 20일까지 사전 판매를 실시하며 국내 공식 출시일은 23일이다.엣지는 얇은 두께에도 성능은 최상급이다. 스마트폰 성능을 좌우하는 애플리케이션 프로세서(AP)는 갤럭시S25시리즈와 동일한 퀄컴의 갤럭시용 스냅드래곤 8 엘리트를 탑재했다. 전면 디스플레이에는 모바일용 글라스 세라믹 신소재인 코닝 고릴라 글라스 세라믹 2 를 적용해 손상 저항 및 균열 방어를 강화했다.카메라 성능은 S25 울트라 급으로 탑재했다. 2억 화소의 초고해상도 광각 카메라와 1200만 화소의 초광각 렌즈로 넓은 프레임을 한 번에 촬영할 수 있다. 배터리는 3900mAh으로, 소모 전력을 제어하는 기술로 사용 시간을 늘렸다. 갤럭시 S24 대비 더욱 얇고 넓게 재설계한 베이퍼 챔버(열분산기)를 내장했다. 이를 통해 디스플레이 이미지 스케일링 품질이 갤럭시 S24 시리즈 대비 약 40% 향상됐다.갤럭시AI기반 편집 기능도 25시리즈와 모두 동일하게 지원한다. 개인화된 맞춤형 정보 브리핑을 제공하는 나우 브리프 와 사용자의 실시간 활동을 잠금 화면에서 바로 확인할 수 있는 나우 바 , 글쓰기 어시스트 가 있다.문성훈 삼성전자 모바일경험(MX)사업부 부사장은 \"얇아졌으니 빠진 기능이 있을까 우려할 텐데 S25 시리즈 대비 빠진 성능은 없다\"며 \"특히 열을 잘 분산하는 것이 성능 확보에 중요해서 얇은 베이퍼 챔버를 구현해 발열 걱정 없이 사용할 수 있다\"고 말했다.삼성전자는 신제품 출시를 계기로 오는 2분기 실적을 끌어올리는다는 목표다. 삼성전자는 통상 2월에 갤럭시 S 시리즈를, 8월에 폴더블폰인 Z 시리즈를 출시해 2분기는 신제품 출시 효과가 반감되는 계절적 비수기로 꼽힌다. 올해 처음으로 2분기에 신제품을 선보이면서 제품 라인업을 다양화해 점유율을 추가로 늘릴 수 있을 것으로 기대하고 있다.강민석MX사업부 스마트폰PP팀 상무는 \"S25 엣지를 통해 전체 S25 패밀리가MX사업부의 매출과 이익을 견인할 것\"이라고 말했다. 이어 \"슬림 제품은 한정 제품은 아니고 S25 시리즈 라인업에서 주된 역할을 담당한다\"며 \"슬림 제품을 라인업상에서 어떻게 최적으로 운영할지 검토하고 있다\"고 말했다.삼성전자는 엣지에 이어 새로운 폼팩터의 스마트폰에 대해서도 준비 중이다. 강 상무는 \"소비자에게 가장 혁신적인 경험을 전달할 수 있게 준비할 예정\"이라며 \"새로운 폼팩터도 고객 수요에 맞는 다양한 가능성을 고민하며 연구개발 중\"이라고 말했다.\n",
      "13일 서울 삼성 강남에서 열린 삼성전자 초슬림형 스마트폰 갤럭시 S25 엣지 미디어 브리핑에서 임성택 삼성전자 한국총괄 부사장이 갤럭시 S25 엣지를 사용하고 있다.\n",
      "13일 서울 삼성 강남에서 열린 삼성전자 초슬림형 스마트폰 갤럭시 S25 엣지 미디어 브리핑에서 임성택 삼성전자 한국총괄 부사장이 갤럭시 S25 엣지를 사용하고 있다.\n",
      "13일 삼성전자 초슬림형 스마트폰 갤럭시 S25 엣지 미디어 브리핑이 열린 서울 삼성 강남에 갤럭시 S25 엣지가 전시돼 있다.\n",
      "13일 삼성전자 초슬림형 스마트폰 갤럭시 S25 엣지 미디어 브리핑이 열린 서울 삼성 강남에 갤럭시 S25 엣지가 전시돼 있다.\n",
      "삼성전자가 차세대 메모리로 손꼽히는 컴퓨트익스프레스링크(CXL) 모듈에 낸드플래시를 결합한 제품을 개발했다고 밝혔다.손교민 삼성전자 메모리사업부 D램 설계팀 마스터는 13일 열린 인공지능반도체포럼 조찬강연회 에서 “차세대CXL솔루션으로 속도가 빠른 D램과 용량이 많은 낸드가 조화를 이룬 하이브리드 구조도 생각해볼 수 있다”며 “기존 D램에는 없는 새로운 응용이 가능해 발전 가능성이 높다”고 말했다.CXL은 중앙처리장치(CPU), 그래픽처리장치(GPU), 스토리지 등 여러 장치를 하나로 통합한 차세대 인터페이스다.CPU와 메모리 반도체를 연결하는 도로가 기존에는 2~3차선 수준이었다면,CXL은 8차선 이상으로 대폭 늘린 기술로 비유된다. 용량을 확장하고, 데이터 처리 효율성을 높일 수 있다는 장점이 있어 주목받고 있다.현재 상용화된CXL1.1과 2.0 버전은 메모리 모듈(CMM)-D기반으로,CXL기능을 제공하는 D램이 탑재된다. 손 마스터가 언급한 하이브리드 구조는CMM-하이브리드(H)로, D램에 낸드를 접목한 신개념이다. D램 기반 모듈에 낸드를 추가, 저장 용량을 늘릴 수 있는 게 장점으로 보인다.삼성전자는 프로그래머블 반도체(FPGA)를 활용한CMM-H구조 시제품을 제작했다. 2027년 사업화를 목표로 연구개발(R&D)을 고도화하고 있다. 손 마스터는 “용량에 포커스를 맞춘CXL은 이머징(신흥) 솔루션”이라며 “연구소에서 다양한 형태의 메모리를 R&D하고 있다”고 전했다.이어 손 마스터는 여러 개의 D램을 쌓아 데이터 처리 속도를 끌어올린 고대역폭메모리(HBM)와 관련해 맞춤형HBM 공급이 본격화되고 있다고 언급했다. 6세대HBM인 HBM4 부터 베이스 다이(가장 아랫단의 반도체)에 파운드리 공정이 적용돼 커스터마이징 이 가능해졌다는 설명이다.그는 “HBM베이스 다이를 로직 반도체 프로세스로 만들기 때문에 다양한 고객이 원하는 대로 만들어줄 수 있는 환경이 됐다”며 “굉장히 큰 변화로, 메모리사업부가 고객 맞춤형 메모리를 생산할 수 있는 여지가 생긴 것”이라고 밝혔다.\n",
      "손교민 삼성전자 마스터, 차세대 D램 기술 발전 방향 소개삼성전자가HBM(고대역폭메모리)의 뒤를 이을 차세대 D램 솔루션을 대거 개발하고 있다.PIM(프로세싱-인-메모리) 등 일부 기술의 경우 반도체 표준화 기구에서 규격 논의가 한창 진행되고 있는 상황으로, 향후 상용화 계획이 구체화될 것으로 기대된다.손교민 삼성전자 마스터는 13일 오전 서울 강남 소재에서 열린 제10회 인공지능반도체조찬포럼 에서 이같이 밝혔다.이날AI시대를 위한 D램 솔루션(DRAMSolutionsforAIEra)을 주제로 발표를 진행한 손 마스터는 \"AI산업에서 요구하는 메모리 성능이 실제 개발 속도를 넘어서면서, 메모리 업체들도 D램의 집적도 향상을 위한 각종 신기술을 개발하고 있다\"며 \"이에 따라 트랜지스터와 커패시터 모두 미세화되고 구조도 진화하고 있다\"고 설명했다.대표적인 차세대 D램 기술로는PIM과VCT(수직 트랜지스터 채널)와CXL(컴퓨트 익스프레스 링크),LLW(저지연·광대역) D램 등이 꼽힌다. 삼성전자는 잠재 고객사 및 산업에 따라 각 D램을 병행 개발하며,AI시대를 준비하고 있다.손 마스터는 \"최근AI산업에서 각광받는HBM은 서버에서 지속 채용될 것이나, 고비용 및 고전력 특성으로 모든 컴퓨팅 시스템이HBM을 쓸 수는 없을 것\"이라며 \"때문에LPDDR-PIM과CXL등이 충분히 의미있는 솔루션이 될 수 있다\"고 말했다.LPDDR은 저전력 D램을 뜻한다. 현재LPDDR5X 세대까지 상용화된 상태로, 차세대 버전인LPDDR6의 표준화 제정이 마무리되고 있다.PIM은 메모리 반도체에서 자체적으로 데이터 연산 기능을 처리할 수 있도록 만든 반도체로, 두 요소를 결합하면 전력 효율성이 뛰어난 D램을 구현하는 것이 가능해진다.CXL은 고성능 서버에서CPU(중앙처리장치)와 함께 사용되는GPU가속기, D램, 저장장치 등을 효율적으로 활용하기 위한 차세대 인터페이스다. 각기 다른 인터페이스로 상호연결이 어려웠던 기존 시스템과 달리,CXL은PCIe(PCI익스프레스; 고속 입출력 인터페이스)를 기반으로 각 칩의 인터페이스를 통합해 메모리의 대역폭 및 용량을 확장할 수 있다.손 마스터는 \"LPDDR6는 규격이 어느 정도 마무리 돼서 활발히 개발 중\"이라며 \"PIM,LLWD램 등의 제품도 반도체 표준화 기구인 제덱(JEDEC)에서 규격 논의가 한창 진행되고 있다\"고 말했다.LLWD램은 입출력(I/O) 단자를 늘려 데이터를 송수신하는 통로인 대역폭을 높인 차세대 D램이다.차세대HBM시장을 좌우할 커스텀HBM의 중요성도 강조했다. 손 마스터는 \"HBM4부터 파운드리를 통해 베이스 다이(Die) 제조하는데, 고객이 원하는 대로 제품을 만들어 줄 수 있다는 점에서 큰 변화\"라며 \"메모리 사업부가 고객의 요구에 맞는 메모리를 만들기 시작하게 된 계기라고 볼 수 있다\"고 밝혔다.\n",
      "갤럭시 S중 가장 슬림…5.8mm두께견고한 내구성과 강력한 카메라 탑재2억 화소 광각 카메라 장착14일부터 20일까지 사전 판매삼성전자는 13일 오전 9시(한국시간) 삼성닷컴 등 온라인에서 갤럭시 S25 엣지:비욘드 슬림’ 행사를 통해 초슬림 스마트폰 ‘갤럭시 S25 엣지’를 공개했다.갤럭시 S25 시리즈의 라인업을 완성하는 갤럭시 S25 엣지는 역대 갤럭시 S 시리즈 중 가장 슬림한 디자인과 강력한 성능, 견고한 내구성을 모두 갖춘 제품이다.갤럭시 S25 엣지는 정교한 설계와 경량화를 통해 갤럭시 S 시리즈 중 가장 얇은 5.8mm두께에 무게도 163g에 불과하다. 갤럭시 S25 울트라는 두께 8.2mm에 218g이고, 갤럭시 S25+는 두께 7.3mm에 190g,S25는 두께 7.2mm에 162g이다.갤럭시 S25 엣지는 견고한 내구성도 갖췄다. 전면 디스플레이에는 모바일용 글라스 세라믹 신소재인 ‘코닝 고릴라 글라스 세라믹 2’를 적용해 손상 저항·균열 방어를 강화했다.또한 강력한 티타늄 프레임과 방수·방진 최고등급의IP68 사양을 갖췄다.갤럭시 S25 엣지는 2억 화소의 초고해상도 광각 카메라를 탑재해 갤럭시 S25 울트라급의 촬영 경험을 제공한다. 1200만 화소의 초광각 렌즈로 넓은 프레임을 한 번에 촬영할 수 있고, 접사 촬영을 위한 자동 초점(AF)도 추가돼 창의적인 시점의 촬영을 지원한다.‘나이토그래피’는 갤럭시 S25, S25+ 대비 약 40% 커진 픽셀 사이즈로 더 많은 빛을 받아들여, 더욱 선명한 촬영 결과물을 만들어 낼 수 있다.갤럭시 S25 엣지는 차세대 프로비주얼 엔진’을 탑재해 선명도와 디테일을 향상시키며, 인물 사진에서는 보다 자연스러운 피부톤을 담아낸다.또 갤럭시 S25 시리즈의 모든 갤럭시AI기반 편집 기능을 동일하게 지원한다. ‘오디오 지우개’,‘스케치 변환’,‘생성형 편집’ 등 다양한 고급 편집 도구를 지원해 완성도 높은 콘텐츠 제작이 가능하다.갤럭시 S25 엣지는 갤럭시 S25 시리즈와 동일하게 갤럭시 전용 칩셋 중 역대 가장 강력한 성능을 갖춘 ‘갤럭시용 스냅드래곤 8 엘리트’를 탑재했다.삼성전자와 퀄컴이 협력해서 개발한 해당 칩셋은 온디바이스AI처리 성능을 강화하며, 빠르고 안정적인 성능을 낸다.방열 시스템도 강화했다. 갤럭시 S25 엣지는 효율적인 열 분산을 위해 갤럭시 S24 대비 더 얇고 넓어진 구조로 재설계된 베이퍼 챔버를 내장해 장시간 사용에도 발열을 제어한다.또한 갤럭시 S25 엣지는 다양한 콘텐츠를 선명하게 표현해 주는 ‘프로스케일러’를 활용해 효율적인 첨단AI이미지 처리 기능을 지원한다.이를 통해 디스플레이 이미지 스케일링 품질이 갤럭시 S24 시리즈 대비 약 40% 향상됐으며, 삼성전자의 화질 개선 솔루션인 ‘mDNIe’으로 화질과 시인성을 높이고 전력 효율까지 향상시켰다.갤럭시 S25 엣지는 일상 속에서 ‘갤럭시AI’기반의 더욱 자연스럽고 직관적인AI경험을 제공한다.개인화된 맞춤형 정보 브리핑을 제공하는 ‘나우 브리프’와 사용자의 실시간 활동을 잠금 화면에서 바로 확인할 수 있는 ‘나우 바’는 다양한 서드파티 앱과 연동해 출퇴근, 식사 등 다양한 일상에서 활용도를 더욱 높였다.또한 강화된 ‘글쓰기 어시스트’ 기능은 텍스트 요약 후 번역, 표 생성 후 이미지 저장 등이 추가돼 더욱 쉽고 빠른 글쓰기를 돕는다. 구글과의 협업을 통해 탑재된 실시간 비주얼AI 기능도 만나볼 수 있다.256GB,512GB스토리지를 탑재한 모델이 각각 149만 6000원, 163만 9000원이다.삼성전자는 23일 갤럭시 S25 엣지를 국내에 공식 출시하고, 14일부터 20일까지 사전 판매를 실시한다.\n"
     ]
    }
   ],
   "source": [
    "for i in range(0, len(test['content'])):\n",
    "    print(test['content'][i])"
   ]
  },
  {
   "cell_type": "markdown",
   "id": "3f260de2",
   "metadata": {},
   "source": [
    "뉴스 기사에 대한 ESG 연관 여부를 label col로 생성하여 라벨링 하여야 함."
   ]
  },
  {
   "cell_type": "code",
   "execution_count": 65,
   "id": "473458d9",
   "metadata": {},
   "outputs": [],
   "source": [
    "test.to_csv('삼성전자_뉴스.csv', index=False, encoding='utf-8-sig')"
   ]
  },
  {
   "cell_type": "code",
   "execution_count": null,
   "id": "85907da7",
   "metadata": {},
   "outputs": [],
   "source": [
    "from transformers import BertTokenizer, BertForSequenceClassification, Trainer, TrainingArguments\n",
    "from datasets import load_dataset\n",
    "import torch\n",
    "\n",
    "# 1. Load pretrained tokenizer & model\n",
    "tokenizer = BertTokenizer.from_pretrained('bert-base-multilingual-cased')\n",
    "model = BertForSequenceClassification.from_pretrained('bert-base-multilingual-cased', num_labels=2)\n",
    "\n",
    "# 2. Load dataset\n",
    "dataset = load_dataset('csv', data_files={'train': 'esg_train.csv', 'test': 'esg_test.csv'})\n",
    "\n",
    "# 3. Combine title + content\n",
    "def combine_title_content(input):\n",
    "    input['text'] = input['title'] + \" \" + input['content']\n",
    "    return input\n",
    "\n",
    "dataset = dataset.map(combine_title_content)\n",
    "\n",
    "# 4. Tokenize\n",
    "def tokenize(batch):\n",
    "    return tokenizer(batch['text'], padding=True, truncation=True, max_length=512)\n",
    "\n",
    "tokenized_dataset = dataset.map(tokenize, batched=True)\n",
    "\n",
    "# 5. Set format for PyTorch (for Trainer)\n",
    "tokenized_dataset.set_format('torch', columns=['input_ids', 'attention_mask', 'label'])\n",
    "\n",
    "# 6. Training arguments\n",
    "training_args = TrainingArguments(\n",
    "    output_dir='./results',\n",
    "    evaluation_strategy=\"epoch\",\n",
    "    per_device_train_batch_size=8,\n",
    "    per_device_eval_batch_size=8,\n",
    "    num_train_epochs=3,\n",
    "    logging_dir='./logs',\n",
    ")\n",
    "\n",
    "# 7. Trainer\n",
    "trainer = Trainer(\n",
    "    model=model,\n",
    "    args=training_args,\n",
    "    train_dataset=tokenized_dataset['train'],\n",
    "    eval_dataset=tokenized_dataset['test'],\n",
    ")\n",
    "\n",
    "# 8. Train\n",
    "trainer.train()\n"
   ]
  }
 ],
 "metadata": {
  "kernelspec": {
   "display_name": "base",
   "language": "python",
   "name": "python3"
  },
  "language_info": {
   "codemirror_mode": {
    "name": "ipython",
    "version": 3
   },
   "file_extension": ".py",
   "mimetype": "text/x-python",
   "name": "python",
   "nbconvert_exporter": "python",
   "pygments_lexer": "ipython3",
   "version": "3.12.3"
  }
 },
 "nbformat": 4,
 "nbformat_minor": 5
}
